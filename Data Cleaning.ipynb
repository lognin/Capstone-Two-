{
 "cells": [
  {
   "cell_type": "markdown",
   "id": "a5f2a29e",
   "metadata": {},
   "source": [
    "Import pandas, numpy and os."
   ]
  },
  {
   "cell_type": "code",
   "execution_count": 1,
   "id": "e8165208",
   "metadata": {},
   "outputs": [],
   "source": [
    "import pandas as pd\n",
    "import numpy as np\n",
    "import os"
   ]
  },
  {
   "cell_type": "markdown",
   "id": "fca244af",
   "metadata": {},
   "source": [
    "Read in OWID Covid Tracking Dataset, which is a composition of a variety of datasets, sources of which can be found [here](https://ourworldindata.org/coronavirus-source-data)"
   ]
  },
  {
   "cell_type": "code",
   "execution_count": 2,
   "id": "316755bc",
   "metadata": {},
   "outputs": [],
   "source": [
    "stringency_df = pd.read_csv('OxCGRT_latest_combined.csv',usecols=['CountryName','CountryCode','Date','StringencyIndex'])"
   ]
  },
  {
   "cell_type": "code",
   "execution_count": 3,
   "id": "69afe9d8",
   "metadata": {},
   "outputs": [
    {
     "data": {
      "text/plain": [
       "(233688, 4)"
      ]
     },
     "execution_count": 3,
     "metadata": {},
     "output_type": "execute_result"
    }
   ],
   "source": [
    "stringency_df.shape"
   ]
  },
  {
   "cell_type": "code",
   "execution_count": 4,
   "id": "560dd31a",
   "metadata": {},
   "outputs": [
    {
     "data": {
      "text/html": [
       "<div>\n",
       "<style scoped>\n",
       "    .dataframe tbody tr th:only-of-type {\n",
       "        vertical-align: middle;\n",
       "    }\n",
       "\n",
       "    .dataframe tbody tr th {\n",
       "        vertical-align: top;\n",
       "    }\n",
       "\n",
       "    .dataframe thead th {\n",
       "        text-align: right;\n",
       "    }\n",
       "</style>\n",
       "<table border=\"1\" class=\"dataframe\">\n",
       "  <thead>\n",
       "    <tr style=\"text-align: right;\">\n",
       "      <th></th>\n",
       "      <th>CountryName</th>\n",
       "      <th>CountryCode</th>\n",
       "      <th>Date</th>\n",
       "      <th>StringencyIndex</th>\n",
       "    </tr>\n",
       "  </thead>\n",
       "  <tbody>\n",
       "    <tr>\n",
       "      <th>0</th>\n",
       "      <td>Aruba</td>\n",
       "      <td>ABW</td>\n",
       "      <td>20200101</td>\n",
       "      <td>0.0</td>\n",
       "    </tr>\n",
       "    <tr>\n",
       "      <th>1</th>\n",
       "      <td>Aruba</td>\n",
       "      <td>ABW</td>\n",
       "      <td>20200102</td>\n",
       "      <td>0.0</td>\n",
       "    </tr>\n",
       "    <tr>\n",
       "      <th>2</th>\n",
       "      <td>Aruba</td>\n",
       "      <td>ABW</td>\n",
       "      <td>20200103</td>\n",
       "      <td>0.0</td>\n",
       "    </tr>\n",
       "    <tr>\n",
       "      <th>3</th>\n",
       "      <td>Aruba</td>\n",
       "      <td>ABW</td>\n",
       "      <td>20200104</td>\n",
       "      <td>0.0</td>\n",
       "    </tr>\n",
       "    <tr>\n",
       "      <th>4</th>\n",
       "      <td>Aruba</td>\n",
       "      <td>ABW</td>\n",
       "      <td>20200105</td>\n",
       "      <td>0.0</td>\n",
       "    </tr>\n",
       "    <tr>\n",
       "      <th>5</th>\n",
       "      <td>Aruba</td>\n",
       "      <td>ABW</td>\n",
       "      <td>20200106</td>\n",
       "      <td>0.0</td>\n",
       "    </tr>\n",
       "    <tr>\n",
       "      <th>6</th>\n",
       "      <td>Aruba</td>\n",
       "      <td>ABW</td>\n",
       "      <td>20200107</td>\n",
       "      <td>0.0</td>\n",
       "    </tr>\n",
       "    <tr>\n",
       "      <th>7</th>\n",
       "      <td>Aruba</td>\n",
       "      <td>ABW</td>\n",
       "      <td>20200108</td>\n",
       "      <td>0.0</td>\n",
       "    </tr>\n",
       "    <tr>\n",
       "      <th>8</th>\n",
       "      <td>Aruba</td>\n",
       "      <td>ABW</td>\n",
       "      <td>20200109</td>\n",
       "      <td>0.0</td>\n",
       "    </tr>\n",
       "    <tr>\n",
       "      <th>9</th>\n",
       "      <td>Aruba</td>\n",
       "      <td>ABW</td>\n",
       "      <td>20200110</td>\n",
       "      <td>0.0</td>\n",
       "    </tr>\n",
       "    <tr>\n",
       "      <th>10</th>\n",
       "      <td>Aruba</td>\n",
       "      <td>ABW</td>\n",
       "      <td>20200111</td>\n",
       "      <td>0.0</td>\n",
       "    </tr>\n",
       "    <tr>\n",
       "      <th>11</th>\n",
       "      <td>Aruba</td>\n",
       "      <td>ABW</td>\n",
       "      <td>20200112</td>\n",
       "      <td>0.0</td>\n",
       "    </tr>\n",
       "    <tr>\n",
       "      <th>12</th>\n",
       "      <td>Aruba</td>\n",
       "      <td>ABW</td>\n",
       "      <td>20200113</td>\n",
       "      <td>0.0</td>\n",
       "    </tr>\n",
       "    <tr>\n",
       "      <th>13</th>\n",
       "      <td>Aruba</td>\n",
       "      <td>ABW</td>\n",
       "      <td>20200114</td>\n",
       "      <td>0.0</td>\n",
       "    </tr>\n",
       "    <tr>\n",
       "      <th>14</th>\n",
       "      <td>Aruba</td>\n",
       "      <td>ABW</td>\n",
       "      <td>20200115</td>\n",
       "      <td>0.0</td>\n",
       "    </tr>\n",
       "    <tr>\n",
       "      <th>15</th>\n",
       "      <td>Aruba</td>\n",
       "      <td>ABW</td>\n",
       "      <td>20200116</td>\n",
       "      <td>0.0</td>\n",
       "    </tr>\n",
       "    <tr>\n",
       "      <th>16</th>\n",
       "      <td>Aruba</td>\n",
       "      <td>ABW</td>\n",
       "      <td>20200117</td>\n",
       "      <td>0.0</td>\n",
       "    </tr>\n",
       "    <tr>\n",
       "      <th>17</th>\n",
       "      <td>Aruba</td>\n",
       "      <td>ABW</td>\n",
       "      <td>20200118</td>\n",
       "      <td>0.0</td>\n",
       "    </tr>\n",
       "    <tr>\n",
       "      <th>18</th>\n",
       "      <td>Aruba</td>\n",
       "      <td>ABW</td>\n",
       "      <td>20200119</td>\n",
       "      <td>0.0</td>\n",
       "    </tr>\n",
       "    <tr>\n",
       "      <th>19</th>\n",
       "      <td>Aruba</td>\n",
       "      <td>ABW</td>\n",
       "      <td>20200120</td>\n",
       "      <td>0.0</td>\n",
       "    </tr>\n",
       "  </tbody>\n",
       "</table>\n",
       "</div>"
      ],
      "text/plain": [
       "   CountryName CountryCode      Date  StringencyIndex\n",
       "0        Aruba         ABW  20200101              0.0\n",
       "1        Aruba         ABW  20200102              0.0\n",
       "2        Aruba         ABW  20200103              0.0\n",
       "3        Aruba         ABW  20200104              0.0\n",
       "4        Aruba         ABW  20200105              0.0\n",
       "5        Aruba         ABW  20200106              0.0\n",
       "6        Aruba         ABW  20200107              0.0\n",
       "7        Aruba         ABW  20200108              0.0\n",
       "8        Aruba         ABW  20200109              0.0\n",
       "9        Aruba         ABW  20200110              0.0\n",
       "10       Aruba         ABW  20200111              0.0\n",
       "11       Aruba         ABW  20200112              0.0\n",
       "12       Aruba         ABW  20200113              0.0\n",
       "13       Aruba         ABW  20200114              0.0\n",
       "14       Aruba         ABW  20200115              0.0\n",
       "15       Aruba         ABW  20200116              0.0\n",
       "16       Aruba         ABW  20200117              0.0\n",
       "17       Aruba         ABW  20200118              0.0\n",
       "18       Aruba         ABW  20200119              0.0\n",
       "19       Aruba         ABW  20200120              0.0"
      ]
     },
     "execution_count": 4,
     "metadata": {},
     "output_type": "execute_result"
    }
   ],
   "source": [
    "stringency_df.head(20)"
   ]
  },
  {
   "cell_type": "code",
   "execution_count": 5,
   "id": "45a5d492",
   "metadata": {},
   "outputs": [
    {
     "data": {
      "text/plain": [
       "Index(['CountryName', 'CountryCode', 'Date', 'StringencyIndex'], dtype='object')"
      ]
     },
     "execution_count": 5,
     "metadata": {},
     "output_type": "execute_result"
    }
   ],
   "source": [
    "stringency_df.columns"
   ]
  },
  {
   "cell_type": "markdown",
   "id": "9a49b2e7",
   "metadata": {},
   "source": [
    "One of the key statistics I'll be using in my analysis is excess mortality as it's generally regarded as the best way of cutting through noise to get to actually Covid outcomes in a given area. However, many countries don't and historically haven't kept good enough data on their mortality levels, so I'll be using the economist's excess mortality estimate which can be found here."
   ]
  },
  {
   "cell_type": "code",
   "execution_count": 6,
   "id": "a54d774d",
   "metadata": {},
   "outputs": [],
   "source": [
    "mort_df = pd.read_csv('export_country_per_100k_cumulative.csv')"
   ]
  },
  {
   "cell_type": "code",
   "execution_count": 7,
   "id": "b4c3cc24",
   "metadata": {},
   "outputs": [
    {
     "data": {
      "text/plain": [
       "(24192, 13)"
      ]
     },
     "execution_count": 7,
     "metadata": {},
     "output_type": "execute_result"
    }
   ],
   "source": [
    "mort_df.shape"
   ]
  },
  {
   "cell_type": "code",
   "execution_count": 8,
   "id": "21a25e68",
   "metadata": {},
   "outputs": [
    {
     "data": {
      "text/html": [
       "<div>\n",
       "<style scoped>\n",
       "    .dataframe tbody tr th:only-of-type {\n",
       "        vertical-align: middle;\n",
       "    }\n",
       "\n",
       "    .dataframe tbody tr th {\n",
       "        vertical-align: top;\n",
       "    }\n",
       "\n",
       "    .dataframe thead th {\n",
       "        text-align: right;\n",
       "    }\n",
       "</style>\n",
       "<table border=\"1\" class=\"dataframe\">\n",
       "  <thead>\n",
       "    <tr style=\"text-align: right;\">\n",
       "      <th></th>\n",
       "      <th>iso3c</th>\n",
       "      <th>date</th>\n",
       "      <th>population</th>\n",
       "      <th>cumulative_estimated_daily_excess_deaths_per_100k</th>\n",
       "      <th>cumulative_estimated_daily_excess_deaths_ci_95_top_per_100k</th>\n",
       "      <th>cumulative_estimated_daily_excess_deaths_ci_90_top_per_100k</th>\n",
       "      <th>cumulative_estimated_daily_excess_deaths_ci_50_top_per_100k</th>\n",
       "      <th>cumulative_estimated_daily_excess_deaths_ci_50_bot_per_100k</th>\n",
       "      <th>cumulative_estimated_daily_excess_deaths_ci_90_bot_per_100k</th>\n",
       "      <th>cumulative_estimated_daily_excess_deaths_ci_95_bot_per_100k</th>\n",
       "      <th>cumulative_estimated_daily_excess_deaths_raw_estimate_per_100k</th>\n",
       "      <th>cumulative_daily_excess_deaths_per_100k</th>\n",
       "      <th>cumulative_daily_covid_deaths_per_100k</th>\n",
       "    </tr>\n",
       "  </thead>\n",
       "  <tbody>\n",
       "    <tr>\n",
       "      <th>0</th>\n",
       "      <td>ABW</td>\n",
       "      <td>2020-01-01</td>\n",
       "      <td>107195</td>\n",
       "      <td>0.000000</td>\n",
       "      <td>0.000000</td>\n",
       "      <td>0.000000</td>\n",
       "      <td>0.000000</td>\n",
       "      <td>0.000000</td>\n",
       "      <td>0.000000</td>\n",
       "      <td>0.000000</td>\n",
       "      <td>-0.087398</td>\n",
       "      <td>0.0</td>\n",
       "      <td>0.0</td>\n",
       "    </tr>\n",
       "    <tr>\n",
       "      <th>1</th>\n",
       "      <td>AFG</td>\n",
       "      <td>2020-01-01</td>\n",
       "      <td>39835428</td>\n",
       "      <td>-0.125509</td>\n",
       "      <td>0.138473</td>\n",
       "      <td>0.078924</td>\n",
       "      <td>0.013765</td>\n",
       "      <td>-0.125509</td>\n",
       "      <td>-0.136733</td>\n",
       "      <td>-0.183141</td>\n",
       "      <td>-0.125509</td>\n",
       "      <td>0.0</td>\n",
       "      <td>0.0</td>\n",
       "    </tr>\n",
       "    <tr>\n",
       "      <th>2</th>\n",
       "      <td>AGO</td>\n",
       "      <td>2020-01-01</td>\n",
       "      <td>33933611</td>\n",
       "      <td>0.118195</td>\n",
       "      <td>0.629733</td>\n",
       "      <td>0.420222</td>\n",
       "      <td>0.180486</td>\n",
       "      <td>-0.021554</td>\n",
       "      <td>-0.112441</td>\n",
       "      <td>-0.186189</td>\n",
       "      <td>0.118195</td>\n",
       "      <td>0.0</td>\n",
       "      <td>0.0</td>\n",
       "    </tr>\n",
       "    <tr>\n",
       "      <th>3</th>\n",
       "      <td>AIA</td>\n",
       "      <td>2020-01-01</td>\n",
       "      <td>15125</td>\n",
       "      <td>-0.111934</td>\n",
       "      <td>0.499684</td>\n",
       "      <td>0.313776</td>\n",
       "      <td>0.017355</td>\n",
       "      <td>-0.149912</td>\n",
       "      <td>-0.288191</td>\n",
       "      <td>-0.447343</td>\n",
       "      <td>-0.111934</td>\n",
       "      <td>0.0</td>\n",
       "      <td>0.0</td>\n",
       "    </tr>\n",
       "    <tr>\n",
       "      <th>4</th>\n",
       "      <td>ALB</td>\n",
       "      <td>2020-01-01</td>\n",
       "      <td>2872934</td>\n",
       "      <td>0.000000</td>\n",
       "      <td>0.000000</td>\n",
       "      <td>0.000000</td>\n",
       "      <td>0.000000</td>\n",
       "      <td>0.000000</td>\n",
       "      <td>0.000000</td>\n",
       "      <td>0.000000</td>\n",
       "      <td>0.048473</td>\n",
       "      <td>0.0</td>\n",
       "      <td>0.0</td>\n",
       "    </tr>\n",
       "  </tbody>\n",
       "</table>\n",
       "</div>"
      ],
      "text/plain": [
       "  iso3c        date  population  \\\n",
       "0   ABW  2020-01-01      107195   \n",
       "1   AFG  2020-01-01    39835428   \n",
       "2   AGO  2020-01-01    33933611   \n",
       "3   AIA  2020-01-01       15125   \n",
       "4   ALB  2020-01-01     2872934   \n",
       "\n",
       "   cumulative_estimated_daily_excess_deaths_per_100k  \\\n",
       "0                                           0.000000   \n",
       "1                                          -0.125509   \n",
       "2                                           0.118195   \n",
       "3                                          -0.111934   \n",
       "4                                           0.000000   \n",
       "\n",
       "   cumulative_estimated_daily_excess_deaths_ci_95_top_per_100k  \\\n",
       "0                                           0.000000             \n",
       "1                                           0.138473             \n",
       "2                                           0.629733             \n",
       "3                                           0.499684             \n",
       "4                                           0.000000             \n",
       "\n",
       "   cumulative_estimated_daily_excess_deaths_ci_90_top_per_100k  \\\n",
       "0                                           0.000000             \n",
       "1                                           0.078924             \n",
       "2                                           0.420222             \n",
       "3                                           0.313776             \n",
       "4                                           0.000000             \n",
       "\n",
       "   cumulative_estimated_daily_excess_deaths_ci_50_top_per_100k  \\\n",
       "0                                           0.000000             \n",
       "1                                           0.013765             \n",
       "2                                           0.180486             \n",
       "3                                           0.017355             \n",
       "4                                           0.000000             \n",
       "\n",
       "   cumulative_estimated_daily_excess_deaths_ci_50_bot_per_100k  \\\n",
       "0                                           0.000000             \n",
       "1                                          -0.125509             \n",
       "2                                          -0.021554             \n",
       "3                                          -0.149912             \n",
       "4                                           0.000000             \n",
       "\n",
       "   cumulative_estimated_daily_excess_deaths_ci_90_bot_per_100k  \\\n",
       "0                                           0.000000             \n",
       "1                                          -0.136733             \n",
       "2                                          -0.112441             \n",
       "3                                          -0.288191             \n",
       "4                                           0.000000             \n",
       "\n",
       "   cumulative_estimated_daily_excess_deaths_ci_95_bot_per_100k  \\\n",
       "0                                           0.000000             \n",
       "1                                          -0.183141             \n",
       "2                                          -0.186189             \n",
       "3                                          -0.447343             \n",
       "4                                           0.000000             \n",
       "\n",
       "   cumulative_estimated_daily_excess_deaths_raw_estimate_per_100k  \\\n",
       "0                                          -0.087398                \n",
       "1                                          -0.125509                \n",
       "2                                           0.118195                \n",
       "3                                          -0.111934                \n",
       "4                                           0.048473                \n",
       "\n",
       "   cumulative_daily_excess_deaths_per_100k  \\\n",
       "0                                      0.0   \n",
       "1                                      0.0   \n",
       "2                                      0.0   \n",
       "3                                      0.0   \n",
       "4                                      0.0   \n",
       "\n",
       "   cumulative_daily_covid_deaths_per_100k  \n",
       "0                                     0.0  \n",
       "1                                     0.0  \n",
       "2                                     0.0  \n",
       "3                                     0.0  \n",
       "4                                     0.0  "
      ]
     },
     "execution_count": 8,
     "metadata": {},
     "output_type": "execute_result"
    }
   ],
   "source": [
    "mort_df.head()"
   ]
  },
  {
   "cell_type": "code",
   "execution_count": 9,
   "id": "61ff7830",
   "metadata": {},
   "outputs": [
    {
     "data": {
      "text/plain": [
       "Index(['iso3c', 'date', 'population',\n",
       "       'cumulative_estimated_daily_excess_deaths_per_100k',\n",
       "       'cumulative_estimated_daily_excess_deaths_ci_95_top_per_100k',\n",
       "       'cumulative_estimated_daily_excess_deaths_ci_90_top_per_100k',\n",
       "       'cumulative_estimated_daily_excess_deaths_ci_50_top_per_100k',\n",
       "       'cumulative_estimated_daily_excess_deaths_ci_50_bot_per_100k',\n",
       "       'cumulative_estimated_daily_excess_deaths_ci_90_bot_per_100k',\n",
       "       'cumulative_estimated_daily_excess_deaths_ci_95_bot_per_100k',\n",
       "       'cumulative_estimated_daily_excess_deaths_raw_estimate_per_100k',\n",
       "       'cumulative_daily_excess_deaths_per_100k',\n",
       "       'cumulative_daily_covid_deaths_per_100k'],\n",
       "      dtype='object')"
      ]
     },
     "execution_count": 9,
     "metadata": {},
     "output_type": "execute_result"
    }
   ],
   "source": [
    "mort_df.columns"
   ]
  },
  {
   "cell_type": "markdown",
   "id": "cf00bdde",
   "metadata": {},
   "source": [
    "Now to remove columns except for identifiers, excess mortality per 100k population, and the date."
   ]
  },
  {
   "cell_type": "code",
   "execution_count": 10,
   "id": "2fda8227",
   "metadata": {},
   "outputs": [],
   "source": [
    "mort_df = mort_df.drop(columns=['population',\n",
    "       'cumulative_estimated_daily_excess_deaths_ci_95_top_per_100k',\n",
    "       'cumulative_estimated_daily_excess_deaths_ci_90_top_per_100k',\n",
    "       'cumulative_estimated_daily_excess_deaths_ci_50_top_per_100k',\n",
    "       'cumulative_estimated_daily_excess_deaths_ci_50_bot_per_100k',\n",
    "       'cumulative_estimated_daily_excess_deaths_ci_90_bot_per_100k',\n",
    "       'cumulative_estimated_daily_excess_deaths_ci_95_bot_per_100k',\n",
    "       'cumulative_estimated_daily_excess_deaths_raw_estimate_per_100k',\n",
    "       'cumulative_daily_excess_deaths_per_100k',\n",
    "       'cumulative_daily_covid_deaths_per_100k'])"
   ]
  },
  {
   "cell_type": "code",
   "execution_count": 11,
   "id": "2a8847c4",
   "metadata": {},
   "outputs": [
    {
     "data": {
      "text/plain": [
       "(24192, 3)"
      ]
     },
     "execution_count": 11,
     "metadata": {},
     "output_type": "execute_result"
    }
   ],
   "source": [
    "mort_df.shape"
   ]
  },
  {
   "cell_type": "code",
   "execution_count": 12,
   "id": "cd9d0404",
   "metadata": {
    "scrolled": true
   },
   "outputs": [
    {
     "data": {
      "text/html": [
       "<div>\n",
       "<style scoped>\n",
       "    .dataframe tbody tr th:only-of-type {\n",
       "        vertical-align: middle;\n",
       "    }\n",
       "\n",
       "    .dataframe tbody tr th {\n",
       "        vertical-align: top;\n",
       "    }\n",
       "\n",
       "    .dataframe thead th {\n",
       "        text-align: right;\n",
       "    }\n",
       "</style>\n",
       "<table border=\"1\" class=\"dataframe\">\n",
       "  <thead>\n",
       "    <tr style=\"text-align: right;\">\n",
       "      <th></th>\n",
       "      <th>iso3c</th>\n",
       "      <th>date</th>\n",
       "      <th>cumulative_estimated_daily_excess_deaths_per_100k</th>\n",
       "    </tr>\n",
       "  </thead>\n",
       "  <tbody>\n",
       "    <tr>\n",
       "      <th>0</th>\n",
       "      <td>ABW</td>\n",
       "      <td>2020-01-01</td>\n",
       "      <td>0.000000</td>\n",
       "    </tr>\n",
       "    <tr>\n",
       "      <th>1</th>\n",
       "      <td>AFG</td>\n",
       "      <td>2020-01-01</td>\n",
       "      <td>-0.125509</td>\n",
       "    </tr>\n",
       "    <tr>\n",
       "      <th>2</th>\n",
       "      <td>AGO</td>\n",
       "      <td>2020-01-01</td>\n",
       "      <td>0.118195</td>\n",
       "    </tr>\n",
       "    <tr>\n",
       "      <th>3</th>\n",
       "      <td>AIA</td>\n",
       "      <td>2020-01-01</td>\n",
       "      <td>-0.111934</td>\n",
       "    </tr>\n",
       "    <tr>\n",
       "      <th>4</th>\n",
       "      <td>ALB</td>\n",
       "      <td>2020-01-01</td>\n",
       "      <td>0.000000</td>\n",
       "    </tr>\n",
       "  </tbody>\n",
       "</table>\n",
       "</div>"
      ],
      "text/plain": [
       "  iso3c        date  cumulative_estimated_daily_excess_deaths_per_100k\n",
       "0   ABW  2020-01-01                                           0.000000\n",
       "1   AFG  2020-01-01                                          -0.125509\n",
       "2   AGO  2020-01-01                                           0.118195\n",
       "3   AIA  2020-01-01                                          -0.111934\n",
       "4   ALB  2020-01-01                                           0.000000"
      ]
     },
     "execution_count": 12,
     "metadata": {},
     "output_type": "execute_result"
    }
   ],
   "source": [
    "mort_df.head()"
   ]
  },
  {
   "cell_type": "markdown",
   "id": "0aa576c1",
   "metadata": {},
   "source": [
    "Now to combine our datasets. First, let's standardize our dates."
   ]
  },
  {
   "cell_type": "code",
   "execution_count": 13,
   "id": "8e4673dd",
   "metadata": {},
   "outputs": [],
   "source": [
    "mort_df['date'] = mort_df['date'].replace('-', '', regex=True)"
   ]
  },
  {
   "cell_type": "code",
   "execution_count": 14,
   "id": "81582959",
   "metadata": {},
   "outputs": [],
   "source": [
    "mort_df = mort_df.sort_values(by = ['iso3c','date'])"
   ]
  },
  {
   "cell_type": "markdown",
   "id": "4c202832",
   "metadata": {},
   "source": [
    "Next, let's rename our columns to have a more similar naming convention."
   ]
  },
  {
   "cell_type": "code",
   "execution_count": 15,
   "id": "13365c43",
   "metadata": {},
   "outputs": [],
   "source": [
    "mort_df = mort_df.rename(columns={'iso3c': 'CountryCode', 'date': 'Date', 'cumulative_estimated_daily_excess_deaths_per_100k':'excess_mort'})"
   ]
  },
  {
   "cell_type": "code",
   "execution_count": 16,
   "id": "6c5958a0",
   "metadata": {},
   "outputs": [],
   "source": [
    "mort_df['Date'] = pd.to_datetime(mort_df['Date'].astype(str), format='%Y%m%d')"
   ]
  },
  {
   "cell_type": "code",
   "execution_count": 17,
   "id": "9bcbc9a6",
   "metadata": {},
   "outputs": [
    {
     "data": {
      "text/html": [
       "<div>\n",
       "<style scoped>\n",
       "    .dataframe tbody tr th:only-of-type {\n",
       "        vertical-align: middle;\n",
       "    }\n",
       "\n",
       "    .dataframe tbody tr th {\n",
       "        vertical-align: top;\n",
       "    }\n",
       "\n",
       "    .dataframe thead th {\n",
       "        text-align: right;\n",
       "    }\n",
       "</style>\n",
       "<table border=\"1\" class=\"dataframe\">\n",
       "  <thead>\n",
       "    <tr style=\"text-align: right;\">\n",
       "      <th></th>\n",
       "      <th>CountryCode</th>\n",
       "      <th>Date</th>\n",
       "      <th>excess_mort</th>\n",
       "    </tr>\n",
       "  </thead>\n",
       "  <tbody>\n",
       "    <tr>\n",
       "      <th>0</th>\n",
       "      <td>ABW</td>\n",
       "      <td>2020-01-01</td>\n",
       "      <td>0.000000</td>\n",
       "    </tr>\n",
       "    <tr>\n",
       "      <th>224</th>\n",
       "      <td>ABW</td>\n",
       "      <td>2020-01-06</td>\n",
       "      <td>0.000000</td>\n",
       "    </tr>\n",
       "    <tr>\n",
       "      <th>448</th>\n",
       "      <td>ABW</td>\n",
       "      <td>2020-01-13</td>\n",
       "      <td>0.000000</td>\n",
       "    </tr>\n",
       "    <tr>\n",
       "      <th>672</th>\n",
       "      <td>ABW</td>\n",
       "      <td>2020-01-20</td>\n",
       "      <td>0.000000</td>\n",
       "    </tr>\n",
       "    <tr>\n",
       "      <th>896</th>\n",
       "      <td>ABW</td>\n",
       "      <td>2020-01-27</td>\n",
       "      <td>1.906403</td>\n",
       "    </tr>\n",
       "  </tbody>\n",
       "</table>\n",
       "</div>"
      ],
      "text/plain": [
       "    CountryCode       Date  excess_mort\n",
       "0           ABW 2020-01-01     0.000000\n",
       "224         ABW 2020-01-06     0.000000\n",
       "448         ABW 2020-01-13     0.000000\n",
       "672         ABW 2020-01-20     0.000000\n",
       "896         ABW 2020-01-27     1.906403"
      ]
     },
     "execution_count": 17,
     "metadata": {},
     "output_type": "execute_result"
    }
   ],
   "source": [
    "mort_df.head()"
   ]
  },
  {
   "cell_type": "code",
   "execution_count": 18,
   "id": "9b7cc733",
   "metadata": {},
   "outputs": [
    {
     "data": {
      "text/plain": [
       "CountryCode            object\n",
       "Date           datetime64[ns]\n",
       "excess_mort           float64\n",
       "dtype: object"
      ]
     },
     "execution_count": 18,
     "metadata": {},
     "output_type": "execute_result"
    }
   ],
   "source": [
    "mort_df.dtypes"
   ]
  },
  {
   "cell_type": "code",
   "execution_count": 19,
   "id": "6366fe18",
   "metadata": {},
   "outputs": [],
   "source": [
    "stringency_df['Date'] = pd.to_datetime(stringency_df['Date'].astype(str), format='%Y%m%d')"
   ]
  },
  {
   "cell_type": "code",
   "execution_count": 20,
   "id": "46753d7c",
   "metadata": {},
   "outputs": [
    {
     "data": {
      "text/html": [
       "<div>\n",
       "<style scoped>\n",
       "    .dataframe tbody tr th:only-of-type {\n",
       "        vertical-align: middle;\n",
       "    }\n",
       "\n",
       "    .dataframe tbody tr th {\n",
       "        vertical-align: top;\n",
       "    }\n",
       "\n",
       "    .dataframe thead th {\n",
       "        text-align: right;\n",
       "    }\n",
       "</style>\n",
       "<table border=\"1\" class=\"dataframe\">\n",
       "  <thead>\n",
       "    <tr style=\"text-align: right;\">\n",
       "      <th></th>\n",
       "      <th>CountryName</th>\n",
       "      <th>CountryCode</th>\n",
       "      <th>Date</th>\n",
       "      <th>StringencyIndex</th>\n",
       "    </tr>\n",
       "  </thead>\n",
       "  <tbody>\n",
       "    <tr>\n",
       "      <th>0</th>\n",
       "      <td>Aruba</td>\n",
       "      <td>ABW</td>\n",
       "      <td>2020-01-01</td>\n",
       "      <td>0.0</td>\n",
       "    </tr>\n",
       "    <tr>\n",
       "      <th>1</th>\n",
       "      <td>Aruba</td>\n",
       "      <td>ABW</td>\n",
       "      <td>2020-01-02</td>\n",
       "      <td>0.0</td>\n",
       "    </tr>\n",
       "    <tr>\n",
       "      <th>2</th>\n",
       "      <td>Aruba</td>\n",
       "      <td>ABW</td>\n",
       "      <td>2020-01-03</td>\n",
       "      <td>0.0</td>\n",
       "    </tr>\n",
       "    <tr>\n",
       "      <th>3</th>\n",
       "      <td>Aruba</td>\n",
       "      <td>ABW</td>\n",
       "      <td>2020-01-04</td>\n",
       "      <td>0.0</td>\n",
       "    </tr>\n",
       "    <tr>\n",
       "      <th>4</th>\n",
       "      <td>Aruba</td>\n",
       "      <td>ABW</td>\n",
       "      <td>2020-01-05</td>\n",
       "      <td>0.0</td>\n",
       "    </tr>\n",
       "  </tbody>\n",
       "</table>\n",
       "</div>"
      ],
      "text/plain": [
       "  CountryName CountryCode       Date  StringencyIndex\n",
       "0       Aruba         ABW 2020-01-01              0.0\n",
       "1       Aruba         ABW 2020-01-02              0.0\n",
       "2       Aruba         ABW 2020-01-03              0.0\n",
       "3       Aruba         ABW 2020-01-04              0.0\n",
       "4       Aruba         ABW 2020-01-05              0.0"
      ]
     },
     "execution_count": 20,
     "metadata": {},
     "output_type": "execute_result"
    }
   ],
   "source": [
    "stringency_df.head()"
   ]
  },
  {
   "cell_type": "code",
   "execution_count": 21,
   "id": "1ce592dc",
   "metadata": {},
   "outputs": [
    {
     "data": {
      "text/plain": [
       "CountryName                object\n",
       "CountryCode                object\n",
       "Date               datetime64[ns]\n",
       "StringencyIndex           float64\n",
       "dtype: object"
      ]
     },
     "execution_count": 21,
     "metadata": {},
     "output_type": "execute_result"
    }
   ],
   "source": [
    "stringency_df.dtypes"
   ]
  },
  {
   "cell_type": "code",
   "execution_count": 22,
   "id": "fcbb1f34",
   "metadata": {},
   "outputs": [],
   "source": [
    "stringency_df.set_index(['Date','CountryCode'], inplace=True)"
   ]
  },
  {
   "cell_type": "code",
   "execution_count": 23,
   "id": "3c72e604",
   "metadata": {},
   "outputs": [],
   "source": [
    "mort_df = mort_df.set_index(['Date','CountryCode'])"
   ]
  },
  {
   "cell_type": "code",
   "execution_count": 24,
   "id": "4444a34e",
   "metadata": {},
   "outputs": [],
   "source": [
    "df = merge=pd.merge(stringency_df,mort_df, how='inner', left_index=True, right_index=True)"
   ]
  },
  {
   "cell_type": "code",
   "execution_count": 25,
   "id": "bca8c62f",
   "metadata": {},
   "outputs": [
    {
     "data": {
      "text/html": [
       "<div>\n",
       "<style scoped>\n",
       "    .dataframe tbody tr th:only-of-type {\n",
       "        vertical-align: middle;\n",
       "    }\n",
       "\n",
       "    .dataframe tbody tr th {\n",
       "        vertical-align: top;\n",
       "    }\n",
       "\n",
       "    .dataframe thead th {\n",
       "        text-align: right;\n",
       "    }\n",
       "</style>\n",
       "<table border=\"1\" class=\"dataframe\">\n",
       "  <thead>\n",
       "    <tr style=\"text-align: right;\">\n",
       "      <th></th>\n",
       "      <th></th>\n",
       "      <th>CountryName</th>\n",
       "      <th>StringencyIndex</th>\n",
       "      <th>excess_mort</th>\n",
       "    </tr>\n",
       "    <tr>\n",
       "      <th>Date</th>\n",
       "      <th>CountryCode</th>\n",
       "      <th></th>\n",
       "      <th></th>\n",
       "      <th></th>\n",
       "    </tr>\n",
       "  </thead>\n",
       "  <tbody>\n",
       "    <tr>\n",
       "      <th rowspan=\"5\" valign=\"top\">2020-01-01</th>\n",
       "      <th>ABW</th>\n",
       "      <td>Aruba</td>\n",
       "      <td>0.0</td>\n",
       "      <td>0.000000</td>\n",
       "    </tr>\n",
       "    <tr>\n",
       "      <th>AFG</th>\n",
       "      <td>Afghanistan</td>\n",
       "      <td>0.0</td>\n",
       "      <td>-0.125509</td>\n",
       "    </tr>\n",
       "    <tr>\n",
       "      <th>AGO</th>\n",
       "      <td>Angola</td>\n",
       "      <td>0.0</td>\n",
       "      <td>0.118195</td>\n",
       "    </tr>\n",
       "    <tr>\n",
       "      <th>ALB</th>\n",
       "      <td>Albania</td>\n",
       "      <td>0.0</td>\n",
       "      <td>0.000000</td>\n",
       "    </tr>\n",
       "    <tr>\n",
       "      <th>AND</th>\n",
       "      <td>Andorra</td>\n",
       "      <td>0.0</td>\n",
       "      <td>0.000000</td>\n",
       "    </tr>\n",
       "  </tbody>\n",
       "</table>\n",
       "</div>"
      ],
      "text/plain": [
       "                        CountryName  StringencyIndex  excess_mort\n",
       "Date       CountryCode                                           \n",
       "2020-01-01 ABW                Aruba              0.0     0.000000\n",
       "           AFG          Afghanistan              0.0    -0.125509\n",
       "           AGO               Angola              0.0     0.118195\n",
       "           ALB              Albania              0.0     0.000000\n",
       "           AND              Andorra              0.0     0.000000"
      ]
     },
     "execution_count": 25,
     "metadata": {},
     "output_type": "execute_result"
    }
   ],
   "source": [
    "df.head()"
   ]
  },
  {
   "cell_type": "code",
   "execution_count": 26,
   "id": "2cc4f2c4",
   "metadata": {},
   "outputs": [
    {
     "data": {
      "text/plain": [
       "(33264, 3)"
      ]
     },
     "execution_count": 26,
     "metadata": {},
     "output_type": "execute_result"
    }
   ],
   "source": [
    "df.shape"
   ]
  },
  {
   "cell_type": "code",
   "execution_count": 29,
   "id": "2ddb29a8",
   "metadata": {},
   "outputs": [
    {
     "data": {
      "text/html": [
       "<div>\n",
       "<style scoped>\n",
       "    .dataframe tbody tr th:only-of-type {\n",
       "        vertical-align: middle;\n",
       "    }\n",
       "\n",
       "    .dataframe tbody tr th {\n",
       "        vertical-align: top;\n",
       "    }\n",
       "\n",
       "    .dataframe thead th {\n",
       "        text-align: right;\n",
       "    }\n",
       "</style>\n",
       "<table border=\"1\" class=\"dataframe\">\n",
       "  <thead>\n",
       "    <tr style=\"text-align: right;\">\n",
       "      <th></th>\n",
       "      <th></th>\n",
       "      <th>CountryName</th>\n",
       "      <th>StringencyIndex</th>\n",
       "      <th>excess_mort</th>\n",
       "    </tr>\n",
       "    <tr>\n",
       "      <th>Date</th>\n",
       "      <th>CountryCode</th>\n",
       "      <th></th>\n",
       "      <th></th>\n",
       "      <th></th>\n",
       "    </tr>\n",
       "  </thead>\n",
       "  <tbody>\n",
       "    <tr>\n",
       "      <th>2020-01-01</th>\n",
       "      <th>ABW</th>\n",
       "      <td>Aruba</td>\n",
       "      <td>0.00</td>\n",
       "      <td>0.000000</td>\n",
       "    </tr>\n",
       "    <tr>\n",
       "      <th>2020-01-06</th>\n",
       "      <th>ABW</th>\n",
       "      <td>Aruba</td>\n",
       "      <td>0.00</td>\n",
       "      <td>0.000000</td>\n",
       "    </tr>\n",
       "    <tr>\n",
       "      <th>2020-01-13</th>\n",
       "      <th>ABW</th>\n",
       "      <td>Aruba</td>\n",
       "      <td>0.00</td>\n",
       "      <td>0.000000</td>\n",
       "    </tr>\n",
       "    <tr>\n",
       "      <th>2020-01-20</th>\n",
       "      <th>ABW</th>\n",
       "      <td>Aruba</td>\n",
       "      <td>0.00</td>\n",
       "      <td>0.000000</td>\n",
       "    </tr>\n",
       "    <tr>\n",
       "      <th>2020-01-27</th>\n",
       "      <th>ABW</th>\n",
       "      <td>Aruba</td>\n",
       "      <td>0.00</td>\n",
       "      <td>1.906403</td>\n",
       "    </tr>\n",
       "    <tr>\n",
       "      <th>...</th>\n",
       "      <th>...</th>\n",
       "      <td>...</td>\n",
       "      <td>...</td>\n",
       "      <td>...</td>\n",
       "    </tr>\n",
       "    <tr>\n",
       "      <th>2021-12-20</th>\n",
       "      <th>ZWE</th>\n",
       "      <td>Zimbabwe</td>\n",
       "      <td>63.89</td>\n",
       "      <td>272.963680</td>\n",
       "    </tr>\n",
       "    <tr>\n",
       "      <th>2021-12-27</th>\n",
       "      <th>ZWE</th>\n",
       "      <td>Zimbabwe</td>\n",
       "      <td>52.78</td>\n",
       "      <td>281.453385</td>\n",
       "    </tr>\n",
       "    <tr>\n",
       "      <th>2022-01-03</th>\n",
       "      <th>ZWE</th>\n",
       "      <td>Zimbabwe</td>\n",
       "      <td>52.78</td>\n",
       "      <td>289.685445</td>\n",
       "    </tr>\n",
       "    <tr>\n",
       "      <th>2022-01-10</th>\n",
       "      <th>ZWE</th>\n",
       "      <td>Zimbabwe</td>\n",
       "      <td>NaN</td>\n",
       "      <td>298.230878</td>\n",
       "    </tr>\n",
       "    <tr>\n",
       "      <th>2022-01-17</th>\n",
       "      <th>ZWE</th>\n",
       "      <td>Zimbabwe</td>\n",
       "      <td>NaN</td>\n",
       "      <td>306.776310</td>\n",
       "    </tr>\n",
       "  </tbody>\n",
       "</table>\n",
       "<p>33264 rows × 3 columns</p>\n",
       "</div>"
      ],
      "text/plain": [
       "                       CountryName  StringencyIndex  excess_mort\n",
       "Date       CountryCode                                          \n",
       "2020-01-01 ABW               Aruba             0.00     0.000000\n",
       "2020-01-06 ABW               Aruba             0.00     0.000000\n",
       "2020-01-13 ABW               Aruba             0.00     0.000000\n",
       "2020-01-20 ABW               Aruba             0.00     0.000000\n",
       "2020-01-27 ABW               Aruba             0.00     1.906403\n",
       "...                            ...              ...          ...\n",
       "2021-12-20 ZWE            Zimbabwe            63.89   272.963680\n",
       "2021-12-27 ZWE            Zimbabwe            52.78   281.453385\n",
       "2022-01-03 ZWE            Zimbabwe            52.78   289.685445\n",
       "2022-01-10 ZWE            Zimbabwe              NaN   298.230878\n",
       "2022-01-17 ZWE            Zimbabwe              NaN   306.776310\n",
       "\n",
       "[33264 rows x 3 columns]"
      ]
     },
     "execution_count": 29,
     "metadata": {},
     "output_type": "execute_result"
    }
   ],
   "source": [
    "df.sort_index(level=['CountryCode','Date'])"
   ]
  },
  {
   "cell_type": "code",
   "execution_count": 30,
   "id": "4c741f09",
   "metadata": {},
   "outputs": [
    {
     "data": {
      "text/plain": [
       "CountryName           0\n",
       "StringencyIndex    1338\n",
       "excess_mort           0\n",
       "dtype: int64"
      ]
     },
     "execution_count": 30,
     "metadata": {},
     "output_type": "execute_result"
    }
   ],
   "source": [
    "df.isna().sum()"
   ]
  },
  {
   "cell_type": "code",
   "execution_count": 31,
   "id": "be19a97a",
   "metadata": {},
   "outputs": [
    {
     "data": {
      "text/html": [
       "<div>\n",
       "<style scoped>\n",
       "    .dataframe tbody tr th:only-of-type {\n",
       "        vertical-align: middle;\n",
       "    }\n",
       "\n",
       "    .dataframe tbody tr th {\n",
       "        vertical-align: top;\n",
       "    }\n",
       "\n",
       "    .dataframe thead th {\n",
       "        text-align: right;\n",
       "    }\n",
       "</style>\n",
       "<table border=\"1\" class=\"dataframe\">\n",
       "  <thead>\n",
       "    <tr style=\"text-align: right;\">\n",
       "      <th></th>\n",
       "      <th>StringencyIndex</th>\n",
       "      <th>excess_mort</th>\n",
       "    </tr>\n",
       "  </thead>\n",
       "  <tbody>\n",
       "    <tr>\n",
       "      <th>count</th>\n",
       "      <td>31926.000000</td>\n",
       "      <td>33264.000000</td>\n",
       "    </tr>\n",
       "    <tr>\n",
       "      <th>mean</th>\n",
       "      <td>50.621887</td>\n",
       "      <td>88.705709</td>\n",
       "    </tr>\n",
       "    <tr>\n",
       "      <th>std</th>\n",
       "      <td>23.075013</td>\n",
       "      <td>116.345259</td>\n",
       "    </tr>\n",
       "    <tr>\n",
       "      <th>min</th>\n",
       "      <td>0.000000</td>\n",
       "      <td>-163.995748</td>\n",
       "    </tr>\n",
       "    <tr>\n",
       "      <th>25%</th>\n",
       "      <td>37.040000</td>\n",
       "      <td>0.662045</td>\n",
       "    </tr>\n",
       "    <tr>\n",
       "      <th>50%</th>\n",
       "      <td>52.780000</td>\n",
       "      <td>44.698523</td>\n",
       "    </tr>\n",
       "    <tr>\n",
       "      <th>75%</th>\n",
       "      <td>67.590000</td>\n",
       "      <td>150.244521</td>\n",
       "    </tr>\n",
       "    <tr>\n",
       "      <th>max</th>\n",
       "      <td>100.000000</td>\n",
       "      <td>908.264386</td>\n",
       "    </tr>\n",
       "  </tbody>\n",
       "</table>\n",
       "</div>"
      ],
      "text/plain": [
       "       StringencyIndex   excess_mort\n",
       "count     31926.000000  33264.000000\n",
       "mean         50.621887     88.705709\n",
       "std          23.075013    116.345259\n",
       "min           0.000000   -163.995748\n",
       "25%          37.040000      0.662045\n",
       "50%          52.780000     44.698523\n",
       "75%          67.590000    150.244521\n",
       "max         100.000000    908.264386"
      ]
     },
     "execution_count": 31,
     "metadata": {},
     "output_type": "execute_result"
    }
   ],
   "source": [
    "df[['StringencyIndex','excess_mort']].describe()"
   ]
  },
  {
   "cell_type": "code",
   "execution_count": 32,
   "id": "3cb05d70",
   "metadata": {},
   "outputs": [],
   "source": [
    "df.to_csv('DataCleaning.csv')"
   ]
  },
  {
   "cell_type": "code",
   "execution_count": null,
   "id": "ac4c1ed0",
   "metadata": {},
   "outputs": [],
   "source": []
  }
 ],
 "metadata": {
  "kernelspec": {
   "display_name": "Python 3",
   "language": "python",
   "name": "python3"
  },
  "language_info": {
   "codemirror_mode": {
    "name": "ipython",
    "version": 3
   },
   "file_extension": ".py",
   "mimetype": "text/x-python",
   "name": "python",
   "nbconvert_exporter": "python",
   "pygments_lexer": "ipython3",
   "version": "3.8.8"
  }
 },
 "nbformat": 4,
 "nbformat_minor": 5
}
