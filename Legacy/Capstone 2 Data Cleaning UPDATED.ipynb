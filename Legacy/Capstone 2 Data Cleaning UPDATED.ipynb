{
 "cells": [
  {
   "cell_type": "markdown",
   "id": "a5f2a29e",
   "metadata": {},
   "source": [
    "Import pandas, numpy and os."
   ]
  },
  {
   "cell_type": "code",
   "execution_count": 1,
   "id": "e8165208",
   "metadata": {},
   "outputs": [],
   "source": [
    "import pandas as pd\n",
    "import numpy as np\n",
    "import os"
   ]
  },
  {
   "cell_type": "markdown",
   "id": "fca244af",
   "metadata": {},
   "source": [
    "Read in OWID Covid Tracking Dataset, which is a composition of a variety of datasets, sources of which can be found [here](https://ourworldindata.org/coronavirus-source-data)"
   ]
  },
  {
   "cell_type": "code",
   "execution_count": 2,
   "id": "316755bc",
   "metadata": {},
   "outputs": [],
   "source": [
    "owid_df = pd.read_csv('owid-covid-data-2.csv')"
   ]
  },
  {
   "cell_type": "code",
   "execution_count": 3,
   "id": "69afe9d8",
   "metadata": {},
   "outputs": [
    {
     "data": {
      "text/plain": [
       "(152004, 67)"
      ]
     },
     "execution_count": 3,
     "metadata": {},
     "output_type": "execute_result"
    }
   ],
   "source": [
    "owid_df.shape"
   ]
  },
  {
   "cell_type": "code",
   "execution_count": 4,
   "id": "560dd31a",
   "metadata": {},
   "outputs": [
    {
     "data": {
      "text/html": [
       "<div>\n",
       "<style scoped>\n",
       "    .dataframe tbody tr th:only-of-type {\n",
       "        vertical-align: middle;\n",
       "    }\n",
       "\n",
       "    .dataframe tbody tr th {\n",
       "        vertical-align: top;\n",
       "    }\n",
       "\n",
       "    .dataframe thead th {\n",
       "        text-align: right;\n",
       "    }\n",
       "</style>\n",
       "<table border=\"1\" class=\"dataframe\">\n",
       "  <thead>\n",
       "    <tr style=\"text-align: right;\">\n",
       "      <th></th>\n",
       "      <th>iso_code</th>\n",
       "      <th>continent</th>\n",
       "      <th>location</th>\n",
       "      <th>date</th>\n",
       "      <th>total_cases</th>\n",
       "      <th>new_cases</th>\n",
       "      <th>new_cases_smoothed</th>\n",
       "      <th>total_deaths</th>\n",
       "      <th>new_deaths</th>\n",
       "      <th>new_deaths_smoothed</th>\n",
       "      <th>...</th>\n",
       "      <th>female_smokers</th>\n",
       "      <th>male_smokers</th>\n",
       "      <th>handwashing_facilities</th>\n",
       "      <th>hospital_beds_per_thousand</th>\n",
       "      <th>life_expectancy</th>\n",
       "      <th>human_development_index</th>\n",
       "      <th>excess_mortality_cumulative_absolute</th>\n",
       "      <th>excess_mortality_cumulative</th>\n",
       "      <th>excess_mortality</th>\n",
       "      <th>excess_mortality_cumulative_per_million</th>\n",
       "    </tr>\n",
       "  </thead>\n",
       "  <tbody>\n",
       "    <tr>\n",
       "      <th>0</th>\n",
       "      <td>AFG</td>\n",
       "      <td>Asia</td>\n",
       "      <td>Afghanistan</td>\n",
       "      <td>2020-02-24</td>\n",
       "      <td>5.0</td>\n",
       "      <td>5.0</td>\n",
       "      <td>NaN</td>\n",
       "      <td>NaN</td>\n",
       "      <td>NaN</td>\n",
       "      <td>NaN</td>\n",
       "      <td>...</td>\n",
       "      <td>NaN</td>\n",
       "      <td>NaN</td>\n",
       "      <td>37.746</td>\n",
       "      <td>0.5</td>\n",
       "      <td>64.83</td>\n",
       "      <td>0.511</td>\n",
       "      <td>NaN</td>\n",
       "      <td>NaN</td>\n",
       "      <td>NaN</td>\n",
       "      <td>NaN</td>\n",
       "    </tr>\n",
       "    <tr>\n",
       "      <th>1</th>\n",
       "      <td>AFG</td>\n",
       "      <td>Asia</td>\n",
       "      <td>Afghanistan</td>\n",
       "      <td>2020-02-25</td>\n",
       "      <td>5.0</td>\n",
       "      <td>0.0</td>\n",
       "      <td>NaN</td>\n",
       "      <td>NaN</td>\n",
       "      <td>NaN</td>\n",
       "      <td>NaN</td>\n",
       "      <td>...</td>\n",
       "      <td>NaN</td>\n",
       "      <td>NaN</td>\n",
       "      <td>37.746</td>\n",
       "      <td>0.5</td>\n",
       "      <td>64.83</td>\n",
       "      <td>0.511</td>\n",
       "      <td>NaN</td>\n",
       "      <td>NaN</td>\n",
       "      <td>NaN</td>\n",
       "      <td>NaN</td>\n",
       "    </tr>\n",
       "    <tr>\n",
       "      <th>2</th>\n",
       "      <td>AFG</td>\n",
       "      <td>Asia</td>\n",
       "      <td>Afghanistan</td>\n",
       "      <td>2020-02-26</td>\n",
       "      <td>5.0</td>\n",
       "      <td>0.0</td>\n",
       "      <td>NaN</td>\n",
       "      <td>NaN</td>\n",
       "      <td>NaN</td>\n",
       "      <td>NaN</td>\n",
       "      <td>...</td>\n",
       "      <td>NaN</td>\n",
       "      <td>NaN</td>\n",
       "      <td>37.746</td>\n",
       "      <td>0.5</td>\n",
       "      <td>64.83</td>\n",
       "      <td>0.511</td>\n",
       "      <td>NaN</td>\n",
       "      <td>NaN</td>\n",
       "      <td>NaN</td>\n",
       "      <td>NaN</td>\n",
       "    </tr>\n",
       "    <tr>\n",
       "      <th>3</th>\n",
       "      <td>AFG</td>\n",
       "      <td>Asia</td>\n",
       "      <td>Afghanistan</td>\n",
       "      <td>2020-02-27</td>\n",
       "      <td>5.0</td>\n",
       "      <td>0.0</td>\n",
       "      <td>NaN</td>\n",
       "      <td>NaN</td>\n",
       "      <td>NaN</td>\n",
       "      <td>NaN</td>\n",
       "      <td>...</td>\n",
       "      <td>NaN</td>\n",
       "      <td>NaN</td>\n",
       "      <td>37.746</td>\n",
       "      <td>0.5</td>\n",
       "      <td>64.83</td>\n",
       "      <td>0.511</td>\n",
       "      <td>NaN</td>\n",
       "      <td>NaN</td>\n",
       "      <td>NaN</td>\n",
       "      <td>NaN</td>\n",
       "    </tr>\n",
       "    <tr>\n",
       "      <th>4</th>\n",
       "      <td>AFG</td>\n",
       "      <td>Asia</td>\n",
       "      <td>Afghanistan</td>\n",
       "      <td>2020-02-28</td>\n",
       "      <td>5.0</td>\n",
       "      <td>0.0</td>\n",
       "      <td>NaN</td>\n",
       "      <td>NaN</td>\n",
       "      <td>NaN</td>\n",
       "      <td>NaN</td>\n",
       "      <td>...</td>\n",
       "      <td>NaN</td>\n",
       "      <td>NaN</td>\n",
       "      <td>37.746</td>\n",
       "      <td>0.5</td>\n",
       "      <td>64.83</td>\n",
       "      <td>0.511</td>\n",
       "      <td>NaN</td>\n",
       "      <td>NaN</td>\n",
       "      <td>NaN</td>\n",
       "      <td>NaN</td>\n",
       "    </tr>\n",
       "  </tbody>\n",
       "</table>\n",
       "<p>5 rows × 67 columns</p>\n",
       "</div>"
      ],
      "text/plain": [
       "  iso_code continent     location        date  total_cases  new_cases  \\\n",
       "0      AFG      Asia  Afghanistan  2020-02-24          5.0        5.0   \n",
       "1      AFG      Asia  Afghanistan  2020-02-25          5.0        0.0   \n",
       "2      AFG      Asia  Afghanistan  2020-02-26          5.0        0.0   \n",
       "3      AFG      Asia  Afghanistan  2020-02-27          5.0        0.0   \n",
       "4      AFG      Asia  Afghanistan  2020-02-28          5.0        0.0   \n",
       "\n",
       "   new_cases_smoothed  total_deaths  new_deaths  new_deaths_smoothed  ...  \\\n",
       "0                 NaN           NaN         NaN                  NaN  ...   \n",
       "1                 NaN           NaN         NaN                  NaN  ...   \n",
       "2                 NaN           NaN         NaN                  NaN  ...   \n",
       "3                 NaN           NaN         NaN                  NaN  ...   \n",
       "4                 NaN           NaN         NaN                  NaN  ...   \n",
       "\n",
       "   female_smokers  male_smokers  handwashing_facilities  \\\n",
       "0             NaN           NaN                  37.746   \n",
       "1             NaN           NaN                  37.746   \n",
       "2             NaN           NaN                  37.746   \n",
       "3             NaN           NaN                  37.746   \n",
       "4             NaN           NaN                  37.746   \n",
       "\n",
       "   hospital_beds_per_thousand  life_expectancy  human_development_index  \\\n",
       "0                         0.5            64.83                    0.511   \n",
       "1                         0.5            64.83                    0.511   \n",
       "2                         0.5            64.83                    0.511   \n",
       "3                         0.5            64.83                    0.511   \n",
       "4                         0.5            64.83                    0.511   \n",
       "\n",
       "   excess_mortality_cumulative_absolute  excess_mortality_cumulative  \\\n",
       "0                                   NaN                          NaN   \n",
       "1                                   NaN                          NaN   \n",
       "2                                   NaN                          NaN   \n",
       "3                                   NaN                          NaN   \n",
       "4                                   NaN                          NaN   \n",
       "\n",
       "   excess_mortality  excess_mortality_cumulative_per_million  \n",
       "0               NaN                                      NaN  \n",
       "1               NaN                                      NaN  \n",
       "2               NaN                                      NaN  \n",
       "3               NaN                                      NaN  \n",
       "4               NaN                                      NaN  \n",
       "\n",
       "[5 rows x 67 columns]"
      ]
     },
     "execution_count": 4,
     "metadata": {},
     "output_type": "execute_result"
    }
   ],
   "source": [
    "owid_df.head()"
   ]
  },
  {
   "cell_type": "code",
   "execution_count": 5,
   "id": "45a5d492",
   "metadata": {},
   "outputs": [
    {
     "data": {
      "text/plain": [
       "Index(['iso_code', 'continent', 'location', 'date', 'total_cases', 'new_cases',\n",
       "       'new_cases_smoothed', 'total_deaths', 'new_deaths',\n",
       "       'new_deaths_smoothed', 'total_cases_per_million',\n",
       "       'new_cases_per_million', 'new_cases_smoothed_per_million',\n",
       "       'total_deaths_per_million', 'new_deaths_per_million',\n",
       "       'new_deaths_smoothed_per_million', 'reproduction_rate', 'icu_patients',\n",
       "       'icu_patients_per_million', 'hosp_patients',\n",
       "       'hosp_patients_per_million', 'weekly_icu_admissions',\n",
       "       'weekly_icu_admissions_per_million', 'weekly_hosp_admissions',\n",
       "       'weekly_hosp_admissions_per_million', 'new_tests', 'total_tests',\n",
       "       'total_tests_per_thousand', 'new_tests_per_thousand',\n",
       "       'new_tests_smoothed', 'new_tests_smoothed_per_thousand',\n",
       "       'positive_rate', 'tests_per_case', 'tests_units', 'total_vaccinations',\n",
       "       'people_vaccinated', 'people_fully_vaccinated', 'total_boosters',\n",
       "       'new_vaccinations', 'new_vaccinations_smoothed',\n",
       "       'total_vaccinations_per_hundred', 'people_vaccinated_per_hundred',\n",
       "       'people_fully_vaccinated_per_hundred', 'total_boosters_per_hundred',\n",
       "       'new_vaccinations_smoothed_per_million',\n",
       "       'new_people_vaccinated_smoothed',\n",
       "       'new_people_vaccinated_smoothed_per_hundred', 'stringency_index',\n",
       "       'population', 'population_density', 'median_age', 'aged_65_older',\n",
       "       'aged_70_older', 'gdp_per_capita', 'extreme_poverty',\n",
       "       'cardiovasc_death_rate', 'diabetes_prevalence', 'female_smokers',\n",
       "       'male_smokers', 'handwashing_facilities', 'hospital_beds_per_thousand',\n",
       "       'life_expectancy', 'human_development_index',\n",
       "       'excess_mortality_cumulative_absolute', 'excess_mortality_cumulative',\n",
       "       'excess_mortality', 'excess_mortality_cumulative_per_million'],\n",
       "      dtype='object')"
      ]
     },
     "execution_count": 5,
     "metadata": {},
     "output_type": "execute_result"
    }
   ],
   "source": [
    "owid_df.columns"
   ]
  },
  {
   "cell_type": "markdown",
   "id": "2ccafa97",
   "metadata": {},
   "source": [
    "Now to remove columns that I'm not including in my analysis and load them into a new dataframe. I'll leave the original intact so that I can refrence it later for controls.\n"
   ]
  },
  {
   "cell_type": "code",
   "execution_count": 6,
   "id": "1c52ec7a",
   "metadata": {},
   "outputs": [],
   "source": [
    "df = owid_df[['iso_code', 'continent', 'location', 'date', 'total_cases', 'new_cases',\n",
    "       'total_deaths', 'new_deaths','total_cases_per_million',\n",
    "       'new_cases_per_million',\n",
    "       'total_deaths_per_million', 'new_deaths_per_million',\n",
    "       'stringency_index', 'excess_mortality']].copy()\n",
    "\n"
   ]
  },
  {
   "cell_type": "code",
   "execution_count": 7,
   "id": "2d5b11d7",
   "metadata": {},
   "outputs": [
    {
     "data": {
      "text/plain": [
       "(152004, 14)"
      ]
     },
     "execution_count": 7,
     "metadata": {},
     "output_type": "execute_result"
    }
   ],
   "source": [
    "df.shape"
   ]
  },
  {
   "cell_type": "code",
   "execution_count": 8,
   "id": "4e7b8165",
   "metadata": {},
   "outputs": [
    {
     "data": {
      "text/html": [
       "<div>\n",
       "<style scoped>\n",
       "    .dataframe tbody tr th:only-of-type {\n",
       "        vertical-align: middle;\n",
       "    }\n",
       "\n",
       "    .dataframe tbody tr th {\n",
       "        vertical-align: top;\n",
       "    }\n",
       "\n",
       "    .dataframe thead th {\n",
       "        text-align: right;\n",
       "    }\n",
       "</style>\n",
       "<table border=\"1\" class=\"dataframe\">\n",
       "  <thead>\n",
       "    <tr style=\"text-align: right;\">\n",
       "      <th></th>\n",
       "      <th>iso_code</th>\n",
       "      <th>continent</th>\n",
       "      <th>location</th>\n",
       "      <th>date</th>\n",
       "      <th>total_cases</th>\n",
       "      <th>new_cases</th>\n",
       "      <th>total_deaths</th>\n",
       "      <th>new_deaths</th>\n",
       "      <th>total_cases_per_million</th>\n",
       "      <th>new_cases_per_million</th>\n",
       "      <th>total_deaths_per_million</th>\n",
       "      <th>new_deaths_per_million</th>\n",
       "      <th>stringency_index</th>\n",
       "      <th>excess_mortality</th>\n",
       "    </tr>\n",
       "  </thead>\n",
       "  <tbody>\n",
       "    <tr>\n",
       "      <th>0</th>\n",
       "      <td>AFG</td>\n",
       "      <td>Asia</td>\n",
       "      <td>Afghanistan</td>\n",
       "      <td>2020-02-24</td>\n",
       "      <td>5.0</td>\n",
       "      <td>5.0</td>\n",
       "      <td>NaN</td>\n",
       "      <td>NaN</td>\n",
       "      <td>0.126</td>\n",
       "      <td>0.126</td>\n",
       "      <td>NaN</td>\n",
       "      <td>NaN</td>\n",
       "      <td>8.33</td>\n",
       "      <td>NaN</td>\n",
       "    </tr>\n",
       "    <tr>\n",
       "      <th>1</th>\n",
       "      <td>AFG</td>\n",
       "      <td>Asia</td>\n",
       "      <td>Afghanistan</td>\n",
       "      <td>2020-02-25</td>\n",
       "      <td>5.0</td>\n",
       "      <td>0.0</td>\n",
       "      <td>NaN</td>\n",
       "      <td>NaN</td>\n",
       "      <td>0.126</td>\n",
       "      <td>0.000</td>\n",
       "      <td>NaN</td>\n",
       "      <td>NaN</td>\n",
       "      <td>8.33</td>\n",
       "      <td>NaN</td>\n",
       "    </tr>\n",
       "    <tr>\n",
       "      <th>2</th>\n",
       "      <td>AFG</td>\n",
       "      <td>Asia</td>\n",
       "      <td>Afghanistan</td>\n",
       "      <td>2020-02-26</td>\n",
       "      <td>5.0</td>\n",
       "      <td>0.0</td>\n",
       "      <td>NaN</td>\n",
       "      <td>NaN</td>\n",
       "      <td>0.126</td>\n",
       "      <td>0.000</td>\n",
       "      <td>NaN</td>\n",
       "      <td>NaN</td>\n",
       "      <td>8.33</td>\n",
       "      <td>NaN</td>\n",
       "    </tr>\n",
       "    <tr>\n",
       "      <th>3</th>\n",
       "      <td>AFG</td>\n",
       "      <td>Asia</td>\n",
       "      <td>Afghanistan</td>\n",
       "      <td>2020-02-27</td>\n",
       "      <td>5.0</td>\n",
       "      <td>0.0</td>\n",
       "      <td>NaN</td>\n",
       "      <td>NaN</td>\n",
       "      <td>0.126</td>\n",
       "      <td>0.000</td>\n",
       "      <td>NaN</td>\n",
       "      <td>NaN</td>\n",
       "      <td>8.33</td>\n",
       "      <td>NaN</td>\n",
       "    </tr>\n",
       "    <tr>\n",
       "      <th>4</th>\n",
       "      <td>AFG</td>\n",
       "      <td>Asia</td>\n",
       "      <td>Afghanistan</td>\n",
       "      <td>2020-02-28</td>\n",
       "      <td>5.0</td>\n",
       "      <td>0.0</td>\n",
       "      <td>NaN</td>\n",
       "      <td>NaN</td>\n",
       "      <td>0.126</td>\n",
       "      <td>0.000</td>\n",
       "      <td>NaN</td>\n",
       "      <td>NaN</td>\n",
       "      <td>8.33</td>\n",
       "      <td>NaN</td>\n",
       "    </tr>\n",
       "  </tbody>\n",
       "</table>\n",
       "</div>"
      ],
      "text/plain": [
       "  iso_code continent     location        date  total_cases  new_cases  \\\n",
       "0      AFG      Asia  Afghanistan  2020-02-24          5.0        5.0   \n",
       "1      AFG      Asia  Afghanistan  2020-02-25          5.0        0.0   \n",
       "2      AFG      Asia  Afghanistan  2020-02-26          5.0        0.0   \n",
       "3      AFG      Asia  Afghanistan  2020-02-27          5.0        0.0   \n",
       "4      AFG      Asia  Afghanistan  2020-02-28          5.0        0.0   \n",
       "\n",
       "   total_deaths  new_deaths  total_cases_per_million  new_cases_per_million  \\\n",
       "0           NaN         NaN                    0.126                  0.126   \n",
       "1           NaN         NaN                    0.126                  0.000   \n",
       "2           NaN         NaN                    0.126                  0.000   \n",
       "3           NaN         NaN                    0.126                  0.000   \n",
       "4           NaN         NaN                    0.126                  0.000   \n",
       "\n",
       "   total_deaths_per_million  new_deaths_per_million  stringency_index  \\\n",
       "0                       NaN                     NaN              8.33   \n",
       "1                       NaN                     NaN              8.33   \n",
       "2                       NaN                     NaN              8.33   \n",
       "3                       NaN                     NaN              8.33   \n",
       "4                       NaN                     NaN              8.33   \n",
       "\n",
       "   excess_mortality  \n",
       "0               NaN  \n",
       "1               NaN  \n",
       "2               NaN  \n",
       "3               NaN  \n",
       "4               NaN  "
      ]
     },
     "execution_count": 8,
     "metadata": {},
     "output_type": "execute_result"
    }
   ],
   "source": [
    "df.head()"
   ]
  },
  {
   "cell_type": "markdown",
   "id": "9a49b2e7",
   "metadata": {},
   "source": [
    "One of the key statistics I'll be using in my analysis is excess mortality as it's generally regarded as the best way of cutting through noise to get to actually Covid outcomes in a given area. However, many countries don't and historically haven't kept good enough data on their mortality levels, so I'll be limiting my analysis to countries that have excess mortality data available."
   ]
  },
  {
   "cell_type": "code",
   "execution_count": 9,
   "id": "a54d774d",
   "metadata": {},
   "outputs": [],
   "source": [
    "temp = df[df['excess_mortality'].notna()]"
   ]
  },
  {
   "cell_type": "markdown",
   "id": "f769de93",
   "metadata": {},
   "source": [
    "This is the list of countries that have at least some information on excess mortality, so I'll constrain most of my analysis to these."
   ]
  },
  {
   "cell_type": "code",
   "execution_count": 10,
   "id": "b4c3cc24",
   "metadata": {},
   "outputs": [
    {
     "name": "stdout",
     "output_type": "stream",
     "text": [
      "{'Bolivia', 'Romania', 'Iran', 'Australia', 'Peru', 'Jamaica', 'Dominican Republic', 'Montenegro', 'Spain', 'Tunisia', 'Canada', 'Bosnia and Herzegovina', 'Barbados', 'Nicaragua', 'Belarus', 'Chile', 'Israel', 'Russia', 'Belgium', 'Latvia', 'Germany', 'Greenland', 'Faeroe Islands', 'New Caledonia', 'Norway', 'Egypt', 'Georgia', 'Qatar', 'Gibraltar', 'Lebanon', 'Costa Rica', 'Hong Kong', 'Japan', 'El Salvador', 'Brazil', 'France', 'United States', 'Panama', 'North Macedonia', 'Kazakhstan', 'Malta', 'Uzbekistan', 'Cyprus', 'San Marino', 'Moldova', 'New Zealand', 'South Africa', 'Azerbaijan', 'Argentina', 'Armenia', 'Mongolia', 'Jordan', 'Mexico', 'Liechtenstein', 'Palestine', 'Taiwan', 'Hungary', 'Portugal', 'United Kingdom', 'Mauritius', 'Denmark', 'French Polynesia', 'Maldives', 'Macao', 'Ecuador', 'Aruba', 'Cuba', 'Andorra', 'Slovenia', 'Luxembourg', 'Singapore', 'Kuwait', 'Lithuania', 'Seychelles', 'Serbia', 'Paraguay', 'Albania', 'South Korea', 'Croatia', 'Kosovo', 'Monaco', 'Ireland', 'Kyrgyzstan', 'Bermuda', 'Austria', 'Malaysia', 'Czechia', 'Brunei', 'Belize', 'Poland', 'Thailand', 'Switzerland', 'Bulgaria', 'Uruguay', 'Greece', 'Philippines', 'Sweden', 'Antigua and Barbuda', 'Finland', 'Slovakia', 'Ukraine', 'Guatemala', 'Estonia', 'Netherlands', 'Colombia', 'Iceland', 'Oman', 'Italy'}\n"
     ]
    }
   ],
   "source": [
    "print(set(temp['location'].unique()))"
   ]
  },
  {
   "cell_type": "code",
   "execution_count": 11,
   "id": "21a25e68",
   "metadata": {},
   "outputs": [
    {
     "name": "stdout",
     "output_type": "stream",
     "text": [
      "108\n"
     ]
    }
   ],
   "source": [
    "print(len(set(temp['location'].unique())))"
   ]
  },
  {
   "cell_type": "code",
   "execution_count": 13,
   "id": "61ff7830",
   "metadata": {},
   "outputs": [],
   "source": [
    "my_list = ['Bolivia', 'Romania', 'Iran', 'Australia', 'Peru', 'Jamaica', 'Dominican Republic', 'Montenegro', 'Spain', 'Tunisia', 'Canada', 'Bosnia and Herzegovina', 'Barbados', 'Nicaragua', 'Belarus', 'Chile', 'Israel', 'Russia', 'Belgium', 'Latvia', 'Germany', 'Greenland', 'Faeroe Islands', 'New Caledonia', 'Norway', 'Egypt', 'Georgia', 'Qatar', 'Gibraltar', 'Lebanon', 'Costa Rica', 'Hong Kong', 'Japan', 'El Salvador', 'Brazil', 'France', 'United States', 'Panama', 'North Macedonia', 'Kazakhstan', 'Malta', 'Uzbekistan', 'Cyprus', 'San Marino', 'Moldova', 'New Zealand', 'South Africa', 'Azerbaijan', 'Argentina', 'Armenia', 'Mongolia', 'Jordan', 'Mexico', 'Liechtenstein', 'Palestine', 'Taiwan', 'Hungary', 'Portugal', 'United Kingdom', 'Mauritius', 'Denmark', 'French Polynesia', 'Maldives', 'Macao', 'Ecuador', 'Aruba', 'Cuba', 'Andorra', 'Slovenia', 'Luxembourg', 'Singapore', 'Kuwait', 'Lithuania', 'Seychelles', 'Serbia', 'Paraguay', 'Albania', 'South Korea', 'Croatia', 'Kosovo', 'Monaco', 'Ireland', 'Kyrgyzstan', 'Bermuda', 'Austria', 'Malaysia', 'Czechia', 'Brunei', 'Belize', 'Poland', 'Thailand', 'Switzerland', 'Bulgaria', 'Uruguay', 'Greece', 'Philippines', 'Sweden', 'Antigua and Barbuda', 'Finland', 'Slovakia', 'Ukraine', 'Guatemala', 'Estonia', 'Netherlands', 'Colombia', 'Iceland', 'Oman', 'Italy']"
   ]
  },
  {
   "cell_type": "code",
   "execution_count": 14,
   "id": "2fda8227",
   "metadata": {},
   "outputs": [],
   "source": [
    "df = df[df['location'].isin(my_list)]"
   ]
  },
  {
   "cell_type": "code",
   "execution_count": 15,
   "id": "2a8847c4",
   "metadata": {},
   "outputs": [
    {
     "data": {
      "text/plain": [
       "(73574, 14)"
      ]
     },
     "execution_count": 15,
     "metadata": {},
     "output_type": "execute_result"
    }
   ],
   "source": [
    "df.shape"
   ]
  },
  {
   "cell_type": "markdown",
   "id": "0aa576c1",
   "metadata": {},
   "source": [
    "Now we'll filter down our data frame to include only countries that contain information on their stringency as well."
   ]
  },
  {
   "cell_type": "code",
   "execution_count": 16,
   "id": "7324de4d",
   "metadata": {},
   "outputs": [],
   "source": [
    "temp = df[df['stringency_index'].notna()]"
   ]
  },
  {
   "cell_type": "code",
   "execution_count": 17,
   "id": "bc9b04e7",
   "metadata": {},
   "outputs": [
    {
     "name": "stdout",
     "output_type": "stream",
     "text": [
      "{'Bolivia', 'Romania', 'Iran', 'Australia', 'Peru', 'Jamaica', 'Dominican Republic', 'Spain', 'Tunisia', 'Canada', 'Bosnia and Herzegovina', 'Barbados', 'Nicaragua', 'Belarus', 'Chile', 'Israel', 'Russia', 'Belgium', 'Latvia', 'Germany', 'Greenland', 'Faeroe Islands', 'Norway', 'Egypt', 'Georgia', 'Qatar', 'Lebanon', 'Costa Rica', 'Hong Kong', 'Japan', 'El Salvador', 'Brazil', 'France', 'United States', 'Kazakhstan', 'Malta', 'Uzbekistan', 'Cyprus', 'San Marino', 'Moldova', 'New Zealand', 'South Africa', 'Azerbaijan', 'Argentina', 'Italy', 'Mongolia', 'Jordan', 'Palestine', 'Mexico', 'Liechtenstein', 'Taiwan', 'Hungary', 'Portugal', 'United Kingdom', 'Mauritius', 'Denmark', 'Macao', 'Ecuador', 'Aruba', 'Cuba', 'Andorra', 'Slovenia', 'Luxembourg', 'Singapore', 'Kuwait', 'Lithuania', 'Seychelles', 'Serbia', 'Paraguay', 'Albania', 'South Korea', 'Croatia', 'Kosovo', 'Monaco', 'Ireland', 'Kyrgyzstan', 'Bermuda', 'Austria', 'Malaysia', 'Czechia', 'Brunei', 'Belize', 'Poland', 'Thailand', 'Switzerland', 'Bulgaria', 'Uruguay', 'Greece', 'Philippines', 'Sweden', 'Finland', 'Slovakia', 'Ukraine', 'Guatemala', 'Estonia', 'Netherlands', 'Colombia', 'Iceland', 'Oman', 'Panama'}\n"
     ]
    }
   ],
   "source": [
    "print(set(temp['location'].unique()))"
   ]
  },
  {
   "cell_type": "code",
   "execution_count": 19,
   "id": "44a1ef06",
   "metadata": {},
   "outputs": [],
   "source": [
    "my_list = ['Bolivia', 'Romania', 'Iran', 'Australia', 'Peru', 'Jamaica', 'Dominican Republic', 'Spain', 'Tunisia', 'Canada', 'Bosnia and Herzegovina', 'Barbados', 'Nicaragua', 'Belarus', 'Chile', 'Israel', 'Russia', 'Belgium', 'Latvia', 'Germany', 'Greenland', 'Faeroe Islands', 'Norway', 'Egypt', 'Georgia', 'Qatar', 'Lebanon', 'Costa Rica', 'Hong Kong', 'Japan', 'El Salvador', 'Brazil', 'France', 'United States', 'Kazakhstan', 'Malta', 'Uzbekistan', 'Cyprus', 'San Marino', 'Moldova', 'New Zealand', 'South Africa', 'Azerbaijan', 'Argentina', 'Italy', 'Mongolia', 'Jordan', 'Palestine', 'Mexico', 'Liechtenstein', 'Taiwan', 'Hungary', 'Portugal', 'United Kingdom', 'Mauritius', 'Denmark', 'Macao', 'Ecuador', 'Aruba', 'Cuba', 'Andorra', 'Slovenia', 'Luxembourg', 'Singapore', 'Kuwait', 'Lithuania', 'Seychelles', 'Serbia', 'Paraguay', 'Albania', 'South Korea', 'Croatia', 'Kosovo', 'Monaco', 'Ireland', 'Kyrgyzstan', 'Bermuda', 'Austria', 'Malaysia', 'Czechia', 'Brunei', 'Belize', 'Poland', 'Thailand', 'Switzerland', 'Bulgaria', 'Uruguay', 'Greece', 'Philippines', 'Sweden', 'Finland', 'Slovakia', 'Ukraine', 'Guatemala', 'Estonia', 'Netherlands', 'Colombia', 'Iceland', 'Oman', 'Panama']"
   ]
  },
  {
   "cell_type": "code",
   "execution_count": 20,
   "id": "b5cd3a09",
   "metadata": {},
   "outputs": [],
   "source": [
    "df = df[df['location'].isin(my_list)]"
   ]
  },
  {
   "cell_type": "code",
   "execution_count": 21,
   "id": "416a0208",
   "metadata": {},
   "outputs": [
    {
     "data": {
      "text/plain": [
       "(68246, 14)"
      ]
     },
     "execution_count": 21,
     "metadata": {},
     "output_type": "execute_result"
    }
   ],
   "source": [
    "df.shape"
   ]
  },
  {
   "cell_type": "code",
   "execution_count": 22,
   "id": "2f7dcd07",
   "metadata": {},
   "outputs": [
    {
     "data": {
      "text/html": [
       "<div>\n",
       "<style scoped>\n",
       "    .dataframe tbody tr th:only-of-type {\n",
       "        vertical-align: middle;\n",
       "    }\n",
       "\n",
       "    .dataframe tbody tr th {\n",
       "        vertical-align: top;\n",
       "    }\n",
       "\n",
       "    .dataframe thead th {\n",
       "        text-align: right;\n",
       "    }\n",
       "</style>\n",
       "<table border=\"1\" class=\"dataframe\">\n",
       "  <thead>\n",
       "    <tr style=\"text-align: right;\">\n",
       "      <th></th>\n",
       "      <th>iso_code</th>\n",
       "      <th>continent</th>\n",
       "      <th>location</th>\n",
       "      <th>date</th>\n",
       "      <th>total_cases</th>\n",
       "      <th>new_cases</th>\n",
       "      <th>total_deaths</th>\n",
       "      <th>new_deaths</th>\n",
       "      <th>total_cases_per_million</th>\n",
       "      <th>new_cases_per_million</th>\n",
       "      <th>total_deaths_per_million</th>\n",
       "      <th>new_deaths_per_million</th>\n",
       "      <th>stringency_index</th>\n",
       "      <th>excess_mortality</th>\n",
       "    </tr>\n",
       "  </thead>\n",
       "  <tbody>\n",
       "    <tr>\n",
       "      <th>1371</th>\n",
       "      <td>ALB</td>\n",
       "      <td>Europe</td>\n",
       "      <td>Albania</td>\n",
       "      <td>2020-02-25</td>\n",
       "      <td>NaN</td>\n",
       "      <td>NaN</td>\n",
       "      <td>NaN</td>\n",
       "      <td>NaN</td>\n",
       "      <td>NaN</td>\n",
       "      <td>NaN</td>\n",
       "      <td>NaN</td>\n",
       "      <td>NaN</td>\n",
       "      <td>8.33</td>\n",
       "      <td>NaN</td>\n",
       "    </tr>\n",
       "    <tr>\n",
       "      <th>1372</th>\n",
       "      <td>ALB</td>\n",
       "      <td>Europe</td>\n",
       "      <td>Albania</td>\n",
       "      <td>2020-02-26</td>\n",
       "      <td>NaN</td>\n",
       "      <td>NaN</td>\n",
       "      <td>NaN</td>\n",
       "      <td>NaN</td>\n",
       "      <td>NaN</td>\n",
       "      <td>NaN</td>\n",
       "      <td>NaN</td>\n",
       "      <td>NaN</td>\n",
       "      <td>8.33</td>\n",
       "      <td>NaN</td>\n",
       "    </tr>\n",
       "    <tr>\n",
       "      <th>1373</th>\n",
       "      <td>ALB</td>\n",
       "      <td>Europe</td>\n",
       "      <td>Albania</td>\n",
       "      <td>2020-02-27</td>\n",
       "      <td>NaN</td>\n",
       "      <td>NaN</td>\n",
       "      <td>NaN</td>\n",
       "      <td>NaN</td>\n",
       "      <td>NaN</td>\n",
       "      <td>NaN</td>\n",
       "      <td>NaN</td>\n",
       "      <td>NaN</td>\n",
       "      <td>8.33</td>\n",
       "      <td>NaN</td>\n",
       "    </tr>\n",
       "    <tr>\n",
       "      <th>1374</th>\n",
       "      <td>ALB</td>\n",
       "      <td>Europe</td>\n",
       "      <td>Albania</td>\n",
       "      <td>2020-02-28</td>\n",
       "      <td>NaN</td>\n",
       "      <td>NaN</td>\n",
       "      <td>NaN</td>\n",
       "      <td>NaN</td>\n",
       "      <td>NaN</td>\n",
       "      <td>NaN</td>\n",
       "      <td>NaN</td>\n",
       "      <td>NaN</td>\n",
       "      <td>8.33</td>\n",
       "      <td>NaN</td>\n",
       "    </tr>\n",
       "    <tr>\n",
       "      <th>1375</th>\n",
       "      <td>ALB</td>\n",
       "      <td>Europe</td>\n",
       "      <td>Albania</td>\n",
       "      <td>2020-02-29</td>\n",
       "      <td>NaN</td>\n",
       "      <td>NaN</td>\n",
       "      <td>NaN</td>\n",
       "      <td>NaN</td>\n",
       "      <td>NaN</td>\n",
       "      <td>NaN</td>\n",
       "      <td>NaN</td>\n",
       "      <td>NaN</td>\n",
       "      <td>8.33</td>\n",
       "      <td>2.88</td>\n",
       "    </tr>\n",
       "  </tbody>\n",
       "</table>\n",
       "</div>"
      ],
      "text/plain": [
       "     iso_code continent location        date  total_cases  new_cases  \\\n",
       "1371      ALB    Europe  Albania  2020-02-25          NaN        NaN   \n",
       "1372      ALB    Europe  Albania  2020-02-26          NaN        NaN   \n",
       "1373      ALB    Europe  Albania  2020-02-27          NaN        NaN   \n",
       "1374      ALB    Europe  Albania  2020-02-28          NaN        NaN   \n",
       "1375      ALB    Europe  Albania  2020-02-29          NaN        NaN   \n",
       "\n",
       "      total_deaths  new_deaths  total_cases_per_million  \\\n",
       "1371           NaN         NaN                      NaN   \n",
       "1372           NaN         NaN                      NaN   \n",
       "1373           NaN         NaN                      NaN   \n",
       "1374           NaN         NaN                      NaN   \n",
       "1375           NaN         NaN                      NaN   \n",
       "\n",
       "      new_cases_per_million  total_deaths_per_million  new_deaths_per_million  \\\n",
       "1371                    NaN                       NaN                     NaN   \n",
       "1372                    NaN                       NaN                     NaN   \n",
       "1373                    NaN                       NaN                     NaN   \n",
       "1374                    NaN                       NaN                     NaN   \n",
       "1375                    NaN                       NaN                     NaN   \n",
       "\n",
       "      stringency_index  excess_mortality  \n",
       "1371              8.33               NaN  \n",
       "1372              8.33               NaN  \n",
       "1373              8.33               NaN  \n",
       "1374              8.33               NaN  \n",
       "1375              8.33              2.88  "
      ]
     },
     "execution_count": 22,
     "metadata": {},
     "output_type": "execute_result"
    }
   ],
   "source": [
    "df.head()"
   ]
  },
  {
   "cell_type": "code",
   "execution_count": 23,
   "id": "80336461",
   "metadata": {},
   "outputs": [],
   "source": [
    "df.to_csv('data_cleaning_df_2.csv', index=False)"
   ]
  },
  {
   "cell_type": "code",
   "execution_count": null,
   "id": "056137d9",
   "metadata": {},
   "outputs": [],
   "source": []
  }
 ],
 "metadata": {
  "kernelspec": {
   "display_name": "Python 3",
   "language": "python",
   "name": "python3"
  },
  "language_info": {
   "codemirror_mode": {
    "name": "ipython",
    "version": 3
   },
   "file_extension": ".py",
   "mimetype": "text/x-python",
   "name": "python",
   "nbconvert_exporter": "python",
   "pygments_lexer": "ipython3",
   "version": "3.8.8"
  }
 },
 "nbformat": 4,
 "nbformat_minor": 5
}
