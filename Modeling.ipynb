{
 "cells": [
  {
   "cell_type": "code",
   "execution_count": 1,
   "id": "cac4438c",
   "metadata": {},
   "outputs": [],
   "source": [
    "import os\n",
    "import numpy as np\n",
    "import pandas as pd\n",
    "from sklearn.linear_model import LinearRegression\n",
    "import statsmodels.api as sm"
   ]
  },
  {
   "cell_type": "code",
   "execution_count": 2,
   "id": "56ab363c",
   "metadata": {},
   "outputs": [],
   "source": [
    "df1 = pd.read_csv('High_Stringency.csv').sort_values(by=['ExcessMortality'])\n",
    "df2 = pd.read_csv('Low_Stringency.csv').sort_values(by=['ExcessMortality'])"
   ]
  },
  {
   "cell_type": "code",
   "execution_count": 3,
   "id": "2c608c51",
   "metadata": {},
   "outputs": [
    {
     "name": "stdout",
     "output_type": "stream",
     "text": [
      "     Unnamed: 0         Country  Stringency  ExcessMortality  Treated\n",
      "93           93      Seychelles   51.148796     -9976.005941        0\n",
      "16           16  Faeroe Islands   34.277290     -7225.746708        1\n",
      "20           20       Greenland   36.360278     -4818.442115        1\n",
      "28           28     New Zealand   40.357963     -3414.487613        1\n",
      "24           24    Sierra Leone   38.872037     -3256.684001        1\n",
      "..          ...             ...         ...              ...      ...\n",
      "60           60          Serbia   46.201215     27482.327051        0\n",
      "9             9         Belarus   29.322264     27578.139516        1\n",
      "114         114    Saudi Arabia   55.820291     27671.693193        0\n",
      "69           69          Russia   47.802430     29154.155597        0\n",
      "44           44        Bulgaria   43.496415     31299.035212        1\n",
      "\n",
      "[117 rows x 5 columns]\n"
     ]
    }
   ],
   "source": [
    "print(df2)"
   ]
  },
  {
   "cell_type": "code",
   "execution_count": 4,
   "id": "5664d342",
   "metadata": {},
   "outputs": [],
   "source": [
    "df1post = df1.drop(['Unnamed: 0', 'Stringency','Country'], axis=1)"
   ]
  },
  {
   "cell_type": "code",
   "execution_count": 5,
   "id": "f37e9e58",
   "metadata": {},
   "outputs": [],
   "source": [
    "df2post = df2.drop(['Unnamed: 0', 'Stringency'], axis=1)"
   ]
  },
  {
   "cell_type": "code",
   "execution_count": 6,
   "id": "4f99cd60",
   "metadata": {},
   "outputs": [],
   "source": [
    "df1post[\"Time\"] = 1\n",
    "df2post['Time'] = 1"
   ]
  },
  {
   "cell_type": "code",
   "execution_count": 7,
   "id": "1b22aa85",
   "metadata": {},
   "outputs": [
    {
     "name": "stdout",
     "output_type": "stream",
     "text": [
      "     ExcessMortality  Treated  Time\n",
      "34      -9976.005941        0     1\n",
      "66      -3090.255654        1     1\n",
      "67      -2363.601985        1     1\n",
      "47      -2358.657296        0     1\n",
      "86      -2328.007357        1     1\n",
      "..               ...      ...   ...\n",
      "39      26282.470927        0     1\n",
      "1       27482.327051        0     1\n",
      "55      27671.693193        0     1\n",
      "10      29154.155597        0     1\n",
      "114     37323.011146        1     1\n",
      "\n",
      "[117 rows x 3 columns]\n"
     ]
    }
   ],
   "source": [
    "print(df1post)"
   ]
  },
  {
   "cell_type": "markdown",
   "id": "ea5c8e53",
   "metadata": {},
   "source": [
    "First we'll run a difference in difference test on our high stringency group, using the middle quantile as a control and high quantile as the treatment. Then, we'll run the same test using middle quantile as the control and the low quantile from our low stringency group. This should give us a good idea if differences in the stringency of a country's response resulted in a difference in the excess mortality of that country."
   ]
  },
  {
   "cell_type": "code",
   "execution_count": 8,
   "id": "ad7bdbc7",
   "metadata": {},
   "outputs": [],
   "source": [
    "df1pre = df1post.copy()\n",
    "df2pre = df2post.copy()"
   ]
  },
  {
   "cell_type": "code",
   "execution_count": 9,
   "id": "aa3983f1",
   "metadata": {},
   "outputs": [],
   "source": [
    "for col in df1pre.columns:\n",
    "    df1pre['ExcessMortality'].values[:] = 0"
   ]
  },
  {
   "cell_type": "code",
   "execution_count": 10,
   "id": "f15f7932",
   "metadata": {},
   "outputs": [],
   "source": [
    "for col in df1pre.columns:\n",
    "    df1pre['Time'].values[:] = 0"
   ]
  },
  {
   "cell_type": "code",
   "execution_count": 11,
   "id": "100ed4c5",
   "metadata": {},
   "outputs": [],
   "source": [
    "for col in df2pre.columns:\n",
    "    df2pre['ExcessMortality'].values[:] = 0"
   ]
  },
  {
   "cell_type": "code",
   "execution_count": 12,
   "id": "29b10dfe",
   "metadata": {},
   "outputs": [],
   "source": [
    "for col in df2pre.columns:\n",
    "    df2pre['Time'].values[:] = 0"
   ]
  },
  {
   "cell_type": "code",
   "execution_count": 13,
   "id": "36376b7b",
   "metadata": {},
   "outputs": [],
   "source": [
    "df1 = pd.concat([df1pre, df1post])\n",
    "df2 = pd.concat([df2pre, df2post])"
   ]
  },
  {
   "cell_type": "code",
   "execution_count": 14,
   "id": "0eb2c90f",
   "metadata": {},
   "outputs": [
    {
     "name": "stdout",
     "output_type": "stream",
     "text": [
      "            Country  ExcessMortality  Treated  Time\n",
      "93       Seychelles         0.000000        0     0\n",
      "16   Faeroe Islands         0.000000        1     0\n",
      "20        Greenland         0.000000        1     0\n",
      "28      New Zealand         0.000000        1     0\n",
      "24     Sierra Leone         0.000000        1     0\n",
      "..              ...              ...      ...   ...\n",
      "60           Serbia     27482.327051        0     1\n",
      "9           Belarus     27578.139516        1     1\n",
      "114    Saudi Arabia     27671.693193        0     1\n",
      "69           Russia     29154.155597        0     1\n",
      "44         Bulgaria     31299.035212        1     1\n",
      "\n",
      "[234 rows x 4 columns]\n"
     ]
    }
   ],
   "source": [
    "print(df2)"
   ]
  },
  {
   "cell_type": "code",
   "execution_count": 15,
   "id": "f0770ba9",
   "metadata": {},
   "outputs": [],
   "source": [
    "df1['did'] = df1['Time'] * df1['Treated']\n",
    "df2['did'] = df2['Time'] * df2['Treated']"
   ]
  },
  {
   "cell_type": "code",
   "execution_count": 16,
   "id": "192d3ba0",
   "metadata": {},
   "outputs": [],
   "source": [
    "x = df1[['Treated','Time','did']]"
   ]
  },
  {
   "cell_type": "code",
   "execution_count": 17,
   "id": "39023e09",
   "metadata": {},
   "outputs": [],
   "source": [
    "y = df1['ExcessMortality']"
   ]
  },
  {
   "cell_type": "code",
   "execution_count": 18,
   "id": "3b67b5e1",
   "metadata": {},
   "outputs": [],
   "source": [
    "model = LinearRegression().fit(x, y)"
   ]
  },
  {
   "cell_type": "code",
   "execution_count": 19,
   "id": "10c7da5c",
   "metadata": {},
   "outputs": [
    {
     "data": {
      "text/plain": [
       "array([ 1.90264641e-12,  9.90698463e+03, -7.92660292e+02])"
      ]
     },
     "execution_count": 19,
     "metadata": {},
     "output_type": "execute_result"
    }
   ],
   "source": [
    "model.coef_"
   ]
  },
  {
   "cell_type": "code",
   "execution_count": 20,
   "id": "c17b77c6",
   "metadata": {},
   "outputs": [
    {
     "name": "stdout",
     "output_type": "stream",
     "text": [
      "                            OLS Regression Results                            \n",
      "==============================================================================\n",
      "Dep. Variable:        ExcessMortality   R-squared:                       0.417\n",
      "Model:                            OLS   Adj. R-squared:                  0.410\n",
      "Method:                 Least Squares   F-statistic:                     54.87\n",
      "Date:                Tue, 01 Feb 2022   Prob (F-statistic):           8.67e-27\n",
      "Time:                        13:58:09   Log-Likelihood:                -2352.8\n",
      "No. Observations:                 234   AIC:                             4714.\n",
      "Df Residuals:                     230   BIC:                             4727.\n",
      "Df Model:                           3                                         \n",
      "Covariance Type:            nonrobust                                         \n",
      "==============================================================================\n",
      "                 coef    std err          t      P>|t|      [0.025      0.975]\n",
      "------------------------------------------------------------------------------\n",
      "const       7.336e-14    745.526   9.84e-17      1.000   -1468.934    1468.934\n",
      "Treated    -1.626e-12   1049.856  -1.55e-15      1.000   -2068.565    2068.565\n",
      "Time        9906.9846   1054.333      9.396      0.000    7829.599     1.2e+04\n",
      "did         -792.6603   1484.721     -0.534      0.594   -3718.052    2132.732\n",
      "==============================================================================\n",
      "Omnibus:                       58.478   Durbin-Watson:                   0.081\n",
      "Prob(Omnibus):                  0.000   Jarque-Bera (JB):              222.586\n",
      "Skew:                           0.963   Prob(JB):                     4.63e-49\n",
      "Kurtosis:                       7.373   Cond. No.                         6.88\n",
      "==============================================================================\n",
      "\n",
      "Notes:\n",
      "[1] Standard Errors assume that the covariance matrix of the errors is correctly specified.\n"
     ]
    }
   ],
   "source": [
    "X2 = sm.add_constant(x)\n",
    "est = sm.OLS(y, X2)\n",
    "est2 = est.fit()\n",
    "print(est2.summary())"
   ]
  },
  {
   "cell_type": "markdown",
   "id": "97be1653",
   "metadata": {},
   "source": [
    "The above are the results of a higher stringency treatment. From my first reading, it looks like a higher level of stringency resulted in a mean decrease of 793.6603 deaths per 100k over the course of the test period."
   ]
  },
  {
   "cell_type": "code",
   "execution_count": 21,
   "id": "02b132cf",
   "metadata": {},
   "outputs": [],
   "source": [
    "x = df2[['Treated','Time','did']]"
   ]
  },
  {
   "cell_type": "code",
   "execution_count": 22,
   "id": "c47b76a0",
   "metadata": {},
   "outputs": [],
   "source": [
    "y = df2['ExcessMortality']"
   ]
  },
  {
   "cell_type": "code",
   "execution_count": 23,
   "id": "7c4cc65d",
   "metadata": {},
   "outputs": [],
   "source": [
    "model = LinearRegression().fit(x, y)"
   ]
  },
  {
   "cell_type": "code",
   "execution_count": 24,
   "id": "cb13179f",
   "metadata": {},
   "outputs": [
    {
     "data": {
      "text/plain": [
       "array([ 4.75661603e-12,  9.90698463e+03, -3.91682358e+03])"
      ]
     },
     "execution_count": 24,
     "metadata": {},
     "output_type": "execute_result"
    }
   ],
   "source": [
    "model.coef_"
   ]
  },
  {
   "cell_type": "code",
   "execution_count": 25,
   "id": "20928a5e",
   "metadata": {},
   "outputs": [
    {
     "name": "stdout",
     "output_type": "stream",
     "text": [
      "                            OLS Regression Results                            \n",
      "==============================================================================\n",
      "Dep. Variable:        ExcessMortality   R-squared:                       0.324\n",
      "Model:                            OLS   Adj. R-squared:                  0.316\n",
      "Method:                 Least Squares   F-statistic:                     36.81\n",
      "Date:                Tue, 01 Feb 2022   Prob (F-statistic):           1.82e-19\n",
      "Time:                        13:58:09   Log-Likelihood:                -2370.2\n",
      "No. Observations:                 234   AIC:                             4748.\n",
      "Df Residuals:                     230   BIC:                             4762.\n",
      "Df Model:                           3                                         \n",
      "Covariance Type:            nonrobust                                         \n",
      "==============================================================================\n",
      "                 coef    std err          t      P>|t|      [0.025      0.975]\n",
      "------------------------------------------------------------------------------\n",
      "const      -1.399e-12    802.962  -1.74e-15      1.000   -1582.101    1582.101\n",
      "Treated    -4.006e-12   1130.738  -3.54e-15      1.000   -2227.928    2227.928\n",
      "Time        9906.9846   1135.559      8.724      0.000    7669.556    1.21e+04\n",
      "did        -3916.8236   1599.104     -2.449      0.015   -7067.590    -766.057\n",
      "==============================================================================\n",
      "Omnibus:                       58.627   Durbin-Watson:                   0.154\n",
      "Prob(Omnibus):                  0.000   Jarque-Bera (JB):              166.082\n",
      "Skew:                           1.077   Prob(JB):                     8.62e-37\n",
      "Kurtosis:                       6.520   Cond. No.                         6.88\n",
      "==============================================================================\n",
      "\n",
      "Notes:\n",
      "[1] Standard Errors assume that the covariance matrix of the errors is correctly specified.\n"
     ]
    }
   ],
   "source": [
    "X2 = sm.add_constant(x)\n",
    "est = sm.OLS(y, X2)\n",
    "est2 = est.fit()\n",
    "print(est2.summary())"
   ]
  },
  {
   "cell_type": "markdown",
   "id": "8580d06d",
   "metadata": {},
   "source": [
    "Above is the result of a lower stringency. Here it looks like a lower stringency led to a mean decrease of 3916.8236 individuals per 100k over the test period."
   ]
  }
 ],
 "metadata": {
  "kernelspec": {
   "display_name": "Python 3",
   "language": "python",
   "name": "python3"
  },
  "language_info": {
   "codemirror_mode": {
    "name": "ipython",
    "version": 3
   },
   "file_extension": ".py",
   "mimetype": "text/x-python",
   "name": "python",
   "nbconvert_exporter": "python",
   "pygments_lexer": "ipython3",
   "version": "3.8.8"
  }
 },
 "nbformat": 4,
 "nbformat_minor": 5
}
