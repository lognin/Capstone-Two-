{
 "cells": [
  {
   "cell_type": "code",
   "execution_count": 1,
   "id": "de5af28b",
   "metadata": {},
   "outputs": [],
   "source": [
    "import pandas as pd\n",
    "import numpy as np"
   ]
  },
  {
   "cell_type": "code",
   "execution_count": 2,
   "id": "b8da4e30",
   "metadata": {},
   "outputs": [],
   "source": [
    "df = pd.read_csv('EDA_summary.csv')"
   ]
  },
  {
   "cell_type": "code",
   "execution_count": 3,
   "id": "061ccab2",
   "metadata": {},
   "outputs": [
    {
     "data": {
      "text/plain": [
       "Index(['Unnamed: 0', 'toughest', 'highest_mort'], dtype='object')"
      ]
     },
     "execution_count": 3,
     "metadata": {},
     "output_type": "execute_result"
    }
   ],
   "source": [
    "df.columns"
   ]
  },
  {
   "cell_type": "code",
   "execution_count": 4,
   "id": "fcdc5a6e",
   "metadata": {},
   "outputs": [],
   "source": [
    "df = df.rename(columns={'Unnamed: 0':'Country', 'toughest':'Stringency', 'highest_mort':'ExcessMortality'})"
   ]
  },
  {
   "cell_type": "code",
   "execution_count": 5,
   "id": "9b723018",
   "metadata": {},
   "outputs": [
    {
     "data": {
      "text/html": [
       "<div>\n",
       "<style scoped>\n",
       "    .dataframe tbody tr th:only-of-type {\n",
       "        vertical-align: middle;\n",
       "    }\n",
       "\n",
       "    .dataframe tbody tr th {\n",
       "        vertical-align: top;\n",
       "    }\n",
       "\n",
       "    .dataframe thead th {\n",
       "        text-align: right;\n",
       "    }\n",
       "</style>\n",
       "<table border=\"1\" class=\"dataframe\">\n",
       "  <thead>\n",
       "    <tr style=\"text-align: right;\">\n",
       "      <th></th>\n",
       "      <th>Country</th>\n",
       "      <th>Stringency</th>\n",
       "      <th>ExcessMortality</th>\n",
       "    </tr>\n",
       "  </thead>\n",
       "  <tbody>\n",
       "    <tr>\n",
       "      <th>0</th>\n",
       "      <td>Aruba</td>\n",
       "      <td>42.580187</td>\n",
       "      <td>10423.084396</td>\n",
       "    </tr>\n",
       "    <tr>\n",
       "      <th>1</th>\n",
       "      <td>Afghanistan</td>\n",
       "      <td>34.697103</td>\n",
       "      <td>7564.492568</td>\n",
       "    </tr>\n",
       "    <tr>\n",
       "      <th>2</th>\n",
       "      <td>Angola</td>\n",
       "      <td>57.861574</td>\n",
       "      <td>4027.033357</td>\n",
       "    </tr>\n",
       "    <tr>\n",
       "      <th>3</th>\n",
       "      <td>Albania</td>\n",
       "      <td>51.355463</td>\n",
       "      <td>23202.617972</td>\n",
       "    </tr>\n",
       "    <tr>\n",
       "      <th>4</th>\n",
       "      <td>Andorra</td>\n",
       "      <td>44.620094</td>\n",
       "      <td>12698.518060</td>\n",
       "    </tr>\n",
       "  </tbody>\n",
       "</table>\n",
       "</div>"
      ],
      "text/plain": [
       "       Country  Stringency  ExcessMortality\n",
       "0        Aruba   42.580187     10423.084396\n",
       "1  Afghanistan   34.697103      7564.492568\n",
       "2       Angola   57.861574      4027.033357\n",
       "3      Albania   51.355463     23202.617972\n",
       "4      Andorra   44.620094     12698.518060"
      ]
     },
     "execution_count": 5,
     "metadata": {},
     "output_type": "execute_result"
    }
   ],
   "source": [
    "df.head()"
   ]
  },
  {
   "cell_type": "code",
   "execution_count": 6,
   "id": "537ff0e8",
   "metadata": {},
   "outputs": [
    {
     "data": {
      "text/html": [
       "<div>\n",
       "<style scoped>\n",
       "    .dataframe tbody tr th:only-of-type {\n",
       "        vertical-align: middle;\n",
       "    }\n",
       "\n",
       "    .dataframe tbody tr th {\n",
       "        vertical-align: top;\n",
       "    }\n",
       "\n",
       "    .dataframe thead th {\n",
       "        text-align: right;\n",
       "    }\n",
       "</style>\n",
       "<table border=\"1\" class=\"dataframe\">\n",
       "  <thead>\n",
       "    <tr style=\"text-align: right;\">\n",
       "      <th></th>\n",
       "      <th>Stringency</th>\n",
       "      <th>ExcessMortality</th>\n",
       "    </tr>\n",
       "  </thead>\n",
       "  <tbody>\n",
       "    <tr>\n",
       "      <th>count</th>\n",
       "      <td>181.000000</td>\n",
       "      <td>182.000000</td>\n",
       "    </tr>\n",
       "    <tr>\n",
       "      <th>mean</th>\n",
       "      <td>50.264284</td>\n",
       "      <td>16212.674144</td>\n",
       "    </tr>\n",
       "    <tr>\n",
       "      <th>std</th>\n",
       "      <td>11.541746</td>\n",
       "      <td>71543.900393</td>\n",
       "    </tr>\n",
       "    <tr>\n",
       "      <th>min</th>\n",
       "      <td>9.738585</td>\n",
       "      <td>-9976.005941</td>\n",
       "    </tr>\n",
       "    <tr>\n",
       "      <th>25%</th>\n",
       "      <td>43.887714</td>\n",
       "      <td>2658.635608</td>\n",
       "    </tr>\n",
       "    <tr>\n",
       "      <th>50%</th>\n",
       "      <td>50.566765</td>\n",
       "      <td>7355.503148</td>\n",
       "    </tr>\n",
       "    <tr>\n",
       "      <th>75%</th>\n",
       "      <td>59.529907</td>\n",
       "      <td>13836.440283</td>\n",
       "    </tr>\n",
       "    <tr>\n",
       "      <th>max</th>\n",
       "      <td>72.992336</td>\n",
       "      <td>864755.834482</td>\n",
       "    </tr>\n",
       "  </tbody>\n",
       "</table>\n",
       "</div>"
      ],
      "text/plain": [
       "       Stringency  ExcessMortality\n",
       "count  181.000000       182.000000\n",
       "mean    50.264284     16212.674144\n",
       "std     11.541746     71543.900393\n",
       "min      9.738585     -9976.005941\n",
       "25%     43.887714      2658.635608\n",
       "50%     50.566765      7355.503148\n",
       "75%     59.529907     13836.440283\n",
       "max     72.992336    864755.834482"
      ]
     },
     "execution_count": 6,
     "metadata": {},
     "output_type": "execute_result"
    }
   ],
   "source": [
    "df.describe()"
   ]
  },
  {
   "cell_type": "code",
   "execution_count": 7,
   "id": "07e1fcd2",
   "metadata": {},
   "outputs": [],
   "source": [
    "df.set_index('Country', inplace = True)"
   ]
  },
  {
   "cell_type": "markdown",
   "id": "b439869e",
   "metadata": {},
   "source": [
    "Removing several countries that appear to be outliers in terms of excess mortality."
   ]
  },
  {
   "cell_type": "code",
   "execution_count": 8,
   "id": "7e7b73ec",
   "metadata": {},
   "outputs": [],
   "source": [
    "df = df.drop(['United States', 'Brazil','United Kingdom','China','Canada','Comoros'])"
   ]
  },
  {
   "cell_type": "code",
   "execution_count": 9,
   "id": "504a221d",
   "metadata": {},
   "outputs": [
    {
     "data": {
      "text/html": [
       "<div>\n",
       "<style scoped>\n",
       "    .dataframe tbody tr th:only-of-type {\n",
       "        vertical-align: middle;\n",
       "    }\n",
       "\n",
       "    .dataframe tbody tr th {\n",
       "        vertical-align: top;\n",
       "    }\n",
       "\n",
       "    .dataframe thead th {\n",
       "        text-align: right;\n",
       "    }\n",
       "</style>\n",
       "<table border=\"1\" class=\"dataframe\">\n",
       "  <thead>\n",
       "    <tr style=\"text-align: right;\">\n",
       "      <th></th>\n",
       "      <th>Stringency</th>\n",
       "      <th>ExcessMortality</th>\n",
       "    </tr>\n",
       "  </thead>\n",
       "  <tbody>\n",
       "    <tr>\n",
       "      <th>count</th>\n",
       "      <td>176.000000</td>\n",
       "      <td>176.000000</td>\n",
       "    </tr>\n",
       "    <tr>\n",
       "      <th>mean</th>\n",
       "      <td>50.161972</td>\n",
       "      <td>8328.237200</td>\n",
       "    </tr>\n",
       "    <tr>\n",
       "      <th>std</th>\n",
       "      <td>11.660835</td>\n",
       "      <td>8404.603469</td>\n",
       "    </tr>\n",
       "    <tr>\n",
       "      <th>min</th>\n",
       "      <td>9.738585</td>\n",
       "      <td>-9976.005941</td>\n",
       "    </tr>\n",
       "    <tr>\n",
       "      <th>25%</th>\n",
       "      <td>43.478237</td>\n",
       "      <td>2144.828424</td>\n",
       "    </tr>\n",
       "    <tr>\n",
       "      <th>50%</th>\n",
       "      <td>50.417814</td>\n",
       "      <td>7081.372155</td>\n",
       "    </tr>\n",
       "    <tr>\n",
       "      <th>75%</th>\n",
       "      <td>59.641846</td>\n",
       "      <td>13549.084400</td>\n",
       "    </tr>\n",
       "    <tr>\n",
       "      <th>max</th>\n",
       "      <td>72.992336</td>\n",
       "      <td>37323.011146</td>\n",
       "    </tr>\n",
       "  </tbody>\n",
       "</table>\n",
       "</div>"
      ],
      "text/plain": [
       "       Stringency  ExcessMortality\n",
       "count  176.000000       176.000000\n",
       "mean    50.161972      8328.237200\n",
       "std     11.660835      8404.603469\n",
       "min      9.738585     -9976.005941\n",
       "25%     43.478237      2144.828424\n",
       "50%     50.417814      7081.372155\n",
       "75%     59.641846     13549.084400\n",
       "max     72.992336     37323.011146"
      ]
     },
     "execution_count": 9,
     "metadata": {},
     "output_type": "execute_result"
    }
   ],
   "source": [
    "df.describe()"
   ]
  },
  {
   "cell_type": "code",
   "execution_count": 10,
   "id": "466e06ee",
   "metadata": {},
   "outputs": [],
   "source": [
    "df = df.reset_index()"
   ]
  },
  {
   "cell_type": "code",
   "execution_count": 11,
   "id": "e90a6614",
   "metadata": {},
   "outputs": [],
   "source": [
    "df = df.sort_values(by=['Stringency'])"
   ]
  },
  {
   "cell_type": "code",
   "execution_count": 12,
   "id": "0bc7bc43",
   "metadata": {},
   "outputs": [
    {
     "data": {
      "text/html": [
       "<div>\n",
       "<style scoped>\n",
       "    .dataframe tbody tr th:only-of-type {\n",
       "        vertical-align: middle;\n",
       "    }\n",
       "\n",
       "    .dataframe tbody tr th {\n",
       "        vertical-align: top;\n",
       "    }\n",
       "\n",
       "    .dataframe thead th {\n",
       "        text-align: right;\n",
       "    }\n",
       "</style>\n",
       "<table border=\"1\" class=\"dataframe\">\n",
       "  <thead>\n",
       "    <tr style=\"text-align: right;\">\n",
       "      <th></th>\n",
       "      <th>Country</th>\n",
       "      <th>Stringency</th>\n",
       "      <th>ExcessMortality</th>\n",
       "    </tr>\n",
       "  </thead>\n",
       "  <tbody>\n",
       "    <tr>\n",
       "      <th>116</th>\n",
       "      <td>Nicaragua</td>\n",
       "      <td>9.738585</td>\n",
       "      <td>18579.366803</td>\n",
       "    </tr>\n",
       "    <tr>\n",
       "      <th>10</th>\n",
       "      <td>Burundi</td>\n",
       "      <td>13.485849</td>\n",
       "      <td>6801.989215</td>\n",
       "    </tr>\n",
       "    <tr>\n",
       "      <th>164</th>\n",
       "      <td>Tanzania</td>\n",
       "      <td>17.380476</td>\n",
       "      <td>4779.002252</td>\n",
       "    </tr>\n",
       "    <tr>\n",
       "      <th>85</th>\n",
       "      <td>Kiribati</td>\n",
       "      <td>23.013426</td>\n",
       "      <td>-3084.660934</td>\n",
       "    </tr>\n",
       "    <tr>\n",
       "      <th>114</th>\n",
       "      <td>Niger</td>\n",
       "      <td>24.142315</td>\n",
       "      <td>4810.275830</td>\n",
       "    </tr>\n",
       "  </tbody>\n",
       "</table>\n",
       "</div>"
      ],
      "text/plain": [
       "       Country  Stringency  ExcessMortality\n",
       "116  Nicaragua    9.738585     18579.366803\n",
       "10     Burundi   13.485849      6801.989215\n",
       "164   Tanzania   17.380476      4779.002252\n",
       "85    Kiribati   23.013426     -3084.660934\n",
       "114      Niger   24.142315      4810.275830"
      ]
     },
     "execution_count": 12,
     "metadata": {},
     "output_type": "execute_result"
    }
   ],
   "source": [
    "df.head()"
   ]
  },
  {
   "cell_type": "code",
   "execution_count": 13,
   "id": "c3ec22fc",
   "metadata": {},
   "outputs": [],
   "source": [
    "df = df.reset_index()"
   ]
  },
  {
   "cell_type": "code",
   "execution_count": 14,
   "id": "81d633a2",
   "metadata": {},
   "outputs": [],
   "source": [
    "df['Quantile'] = pd.qcut(df['Stringency'], q = 3, labels = False)"
   ]
  },
  {
   "cell_type": "code",
   "execution_count": 15,
   "id": "5efee13e",
   "metadata": {},
   "outputs": [
    {
     "name": "stdout",
     "output_type": "stream",
     "text": [
      "     index    Country  Stringency  ExcessMortality  Quantile\n",
      "0      116  Nicaragua    9.738585     18579.366803         0\n",
      "1       10    Burundi   13.485849      6801.989215         0\n",
      "2      164   Tanzania   17.380476      4779.002252         0\n",
      "3       85   Kiribati   23.013426     -3084.660934         0\n",
      "4      114      Niger   24.142315      4810.275830         0\n",
      "..     ...        ...         ...              ...       ...\n",
      "171    106    Myanmar   67.350841      7343.971004         2\n",
      "172      6  Argentina   68.968208     13817.367761         2\n",
      "173    124       Peru   69.228738     37323.011146         2\n",
      "174    169  Venezuela   71.645472      8628.576493         2\n",
      "175     66   Honduras   72.992336     21923.682715         2\n",
      "\n",
      "[176 rows x 5 columns]\n"
     ]
    }
   ],
   "source": [
    "print(df)"
   ]
  },
  {
   "cell_type": "code",
   "execution_count": 16,
   "id": "8f08f2d9",
   "metadata": {},
   "outputs": [],
   "source": [
    "df_high = df[df['Quantile'] >= 1].drop(['index'], axis=1)"
   ]
  },
  {
   "cell_type": "code",
   "execution_count": 17,
   "id": "07523160",
   "metadata": {},
   "outputs": [],
   "source": [
    "df_low = df[df['Quantile'] <= 1].drop(['index'], axis=1)"
   ]
  },
  {
   "cell_type": "code",
   "execution_count": 18,
   "id": "a1dad827",
   "metadata": {},
   "outputs": [
    {
     "data": {
      "text/html": [
       "<div>\n",
       "<style scoped>\n",
       "    .dataframe tbody tr th:only-of-type {\n",
       "        vertical-align: middle;\n",
       "    }\n",
       "\n",
       "    .dataframe tbody tr th {\n",
       "        vertical-align: top;\n",
       "    }\n",
       "\n",
       "    .dataframe thead th {\n",
       "        text-align: right;\n",
       "    }\n",
       "</style>\n",
       "<table border=\"1\" class=\"dataframe\">\n",
       "  <thead>\n",
       "    <tr style=\"text-align: right;\">\n",
       "      <th></th>\n",
       "      <th>Stringency</th>\n",
       "      <th>ExcessMortality</th>\n",
       "      <th>Quantile</th>\n",
       "    </tr>\n",
       "  </thead>\n",
       "  <tbody>\n",
       "    <tr>\n",
       "      <th>count</th>\n",
       "      <td>117.000000</td>\n",
       "      <td>117.000000</td>\n",
       "      <td>117.000000</td>\n",
       "    </tr>\n",
       "    <tr>\n",
       "      <th>mean</th>\n",
       "      <td>56.617161</td>\n",
       "      <td>9507.267051</td>\n",
       "      <td>1.504274</td>\n",
       "    </tr>\n",
       "    <tr>\n",
       "      <th>std</th>\n",
       "      <td>6.748646</td>\n",
       "      <td>8004.777273</td>\n",
       "      <td>0.502132</td>\n",
       "    </tr>\n",
       "    <tr>\n",
       "      <th>min</th>\n",
       "      <td>46.183925</td>\n",
       "      <td>-9976.005941</td>\n",
       "      <td>1.000000</td>\n",
       "    </tr>\n",
       "    <tr>\n",
       "      <th>25%</th>\n",
       "      <td>50.467778</td>\n",
       "      <td>3964.680896</td>\n",
       "      <td>1.000000</td>\n",
       "    </tr>\n",
       "    <tr>\n",
       "      <th>50%</th>\n",
       "      <td>56.243645</td>\n",
       "      <td>8628.576493</td>\n",
       "      <td>2.000000</td>\n",
       "    </tr>\n",
       "    <tr>\n",
       "      <th>75%</th>\n",
       "      <td>61.445741</td>\n",
       "      <td>14014.637907</td>\n",
       "      <td>2.000000</td>\n",
       "    </tr>\n",
       "    <tr>\n",
       "      <th>max</th>\n",
       "      <td>72.992336</td>\n",
       "      <td>37323.011146</td>\n",
       "      <td>2.000000</td>\n",
       "    </tr>\n",
       "  </tbody>\n",
       "</table>\n",
       "</div>"
      ],
      "text/plain": [
       "       Stringency  ExcessMortality    Quantile\n",
       "count  117.000000       117.000000  117.000000\n",
       "mean    56.617161      9507.267051    1.504274\n",
       "std      6.748646      8004.777273    0.502132\n",
       "min     46.183925     -9976.005941    1.000000\n",
       "25%     50.467778      3964.680896    1.000000\n",
       "50%     56.243645      8628.576493    2.000000\n",
       "75%     61.445741     14014.637907    2.000000\n",
       "max     72.992336     37323.011146    2.000000"
      ]
     },
     "execution_count": 18,
     "metadata": {},
     "output_type": "execute_result"
    }
   ],
   "source": [
    "df_high.describe()"
   ]
  },
  {
   "cell_type": "code",
   "execution_count": 19,
   "id": "44123fe6",
   "metadata": {},
   "outputs": [
    {
     "data": {
      "text/html": [
       "<div>\n",
       "<style scoped>\n",
       "    .dataframe tbody tr th:only-of-type {\n",
       "        vertical-align: middle;\n",
       "    }\n",
       "\n",
       "    .dataframe tbody tr th {\n",
       "        vertical-align: top;\n",
       "    }\n",
       "\n",
       "    .dataframe thead th {\n",
       "        text-align: right;\n",
       "    }\n",
       "</style>\n",
       "<table border=\"1\" class=\"dataframe\">\n",
       "  <thead>\n",
       "    <tr style=\"text-align: right;\">\n",
       "      <th></th>\n",
       "      <th>Stringency</th>\n",
       "      <th>ExcessMortality</th>\n",
       "      <th>Quantile</th>\n",
       "    </tr>\n",
       "  </thead>\n",
       "  <tbody>\n",
       "    <tr>\n",
       "      <th>count</th>\n",
       "      <td>117.000000</td>\n",
       "      <td>117.000000</td>\n",
       "      <td>117.000000</td>\n",
       "    </tr>\n",
       "    <tr>\n",
       "      <th>mean</th>\n",
       "      <td>44.014912</td>\n",
       "      <td>7931.834282</td>\n",
       "      <td>0.495726</td>\n",
       "    </tr>\n",
       "    <tr>\n",
       "      <th>std</th>\n",
       "      <td>9.157754</td>\n",
       "      <td>8832.561284</td>\n",
       "      <td>0.502132</td>\n",
       "    </tr>\n",
       "    <tr>\n",
       "      <th>min</th>\n",
       "      <td>9.738585</td>\n",
       "      <td>-9976.005941</td>\n",
       "      <td>0.000000</td>\n",
       "    </tr>\n",
       "    <tr>\n",
       "      <th>25%</th>\n",
       "      <td>40.423056</td>\n",
       "      <td>452.768418</td>\n",
       "      <td>0.000000</td>\n",
       "    </tr>\n",
       "    <tr>\n",
       "      <th>50%</th>\n",
       "      <td>46.146168</td>\n",
       "      <td>6801.989215</td>\n",
       "      <td>0.000000</td>\n",
       "    </tr>\n",
       "    <tr>\n",
       "      <th>75%</th>\n",
       "      <td>50.367850</td>\n",
       "      <td>12436.976922</td>\n",
       "      <td>1.000000</td>\n",
       "    </tr>\n",
       "    <tr>\n",
       "      <th>max</th>\n",
       "      <td>56.194167</td>\n",
       "      <td>31299.035212</td>\n",
       "      <td>1.000000</td>\n",
       "    </tr>\n",
       "  </tbody>\n",
       "</table>\n",
       "</div>"
      ],
      "text/plain": [
       "       Stringency  ExcessMortality    Quantile\n",
       "count  117.000000       117.000000  117.000000\n",
       "mean    44.014912      7931.834282    0.495726\n",
       "std      9.157754      8832.561284    0.502132\n",
       "min      9.738585     -9976.005941    0.000000\n",
       "25%     40.423056       452.768418    0.000000\n",
       "50%     46.146168      6801.989215    0.000000\n",
       "75%     50.367850     12436.976922    1.000000\n",
       "max     56.194167     31299.035212    1.000000"
      ]
     },
     "execution_count": 19,
     "metadata": {},
     "output_type": "execute_result"
    }
   ],
   "source": [
    "df_low.describe()"
   ]
  },
  {
   "cell_type": "markdown",
   "id": "788f89c2",
   "metadata": {},
   "source": [
    "Converting qunatile label into treatment label, with a zero indicating no treatment and a one indicating treatment."
   ]
  },
  {
   "cell_type": "code",
   "execution_count": 20,
   "id": "9fdd738d",
   "metadata": {},
   "outputs": [],
   "source": [
    "df_high = df_high.rename(columns={'Quantile' : 'Treated'})"
   ]
  },
  {
   "cell_type": "code",
   "execution_count": 21,
   "id": "fc04534f",
   "metadata": {},
   "outputs": [],
   "source": [
    "df_high['Treated'] = df_high['Treated'].replace(1,0)"
   ]
  },
  {
   "cell_type": "code",
   "execution_count": 22,
   "id": "0fdf32c7",
   "metadata": {},
   "outputs": [],
   "source": [
    "df_high['Treated'] = df_high['Treated'].replace(2,1)"
   ]
  },
  {
   "cell_type": "code",
   "execution_count": 23,
   "id": "ce2d608e",
   "metadata": {},
   "outputs": [],
   "source": [
    "df_low = df_low.rename(columns={'Quantile' : 'Treated'})"
   ]
  },
  {
   "cell_type": "code",
   "execution_count": 24,
   "id": "3abc2ba2",
   "metadata": {},
   "outputs": [],
   "source": [
    "df_low['Treated'] = df_low['Treated'].replace(0,2)"
   ]
  },
  {
   "cell_type": "code",
   "execution_count": 25,
   "id": "dbef2b96",
   "metadata": {},
   "outputs": [],
   "source": [
    "df_low['Treated'] = df_low['Treated'].replace(1,0)"
   ]
  },
  {
   "cell_type": "code",
   "execution_count": 26,
   "id": "d503e237",
   "metadata": {},
   "outputs": [],
   "source": [
    "df_low['Treated'] = df_low['Treated'].replace(2,1)"
   ]
  },
  {
   "cell_type": "code",
   "execution_count": 31,
   "id": "117cbc83",
   "metadata": {},
   "outputs": [],
   "source": [
    "df_high.to_csv('High_Stringency.csv')\n",
    "df_low.to_csv('Low_Stringency.csv')"
   ]
  }
 ],
 "metadata": {
  "kernelspec": {
   "display_name": "Python 3",
   "language": "python",
   "name": "python3"
  },
  "language_info": {
   "codemirror_mode": {
    "name": "ipython",
    "version": 3
   },
   "file_extension": ".py",
   "mimetype": "text/x-python",
   "name": "python",
   "nbconvert_exporter": "python",
   "pygments_lexer": "ipython3",
   "version": "3.8.8"
  }
 },
 "nbformat": 4,
 "nbformat_minor": 5
}
