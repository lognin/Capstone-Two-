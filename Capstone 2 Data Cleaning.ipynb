{
 "cells": [
  {
   "cell_type": "markdown",
   "id": "a5f2a29e",
   "metadata": {},
   "source": [
    "Import pandas, numpy and os."
   ]
  },
  {
   "cell_type": "code",
   "execution_count": 1,
   "id": "e8165208",
   "metadata": {},
   "outputs": [],
   "source": [
    "import pandas as pd\n",
    "import numpy as np\n",
    "import os"
   ]
  },
  {
   "cell_type": "markdown",
   "id": "fca244af",
   "metadata": {},
   "source": [
    "Read in OWID Covid Tracking Dataset, which is a composition of a variety of datasets, sources of which can be found [here](https://ourworldindata.org/coronavirus-source-data)"
   ]
  },
  {
   "cell_type": "code",
   "execution_count": 2,
   "id": "316755bc",
   "metadata": {},
   "outputs": [],
   "source": [
    "owid_df = pd.read_csv('owid-covid-data.csv')"
   ]
  },
  {
   "cell_type": "code",
   "execution_count": 3,
   "id": "69afe9d8",
   "metadata": {},
   "outputs": [
    {
     "data": {
      "text/plain": [
       "(118134, 62)"
      ]
     },
     "execution_count": 3,
     "metadata": {},
     "output_type": "execute_result"
    }
   ],
   "source": [
    "owid_df.shape"
   ]
  },
  {
   "cell_type": "code",
   "execution_count": 4,
   "id": "560dd31a",
   "metadata": {},
   "outputs": [
    {
     "data": {
      "text/html": [
       "<div>\n",
       "<style scoped>\n",
       "    .dataframe tbody tr th:only-of-type {\n",
       "        vertical-align: middle;\n",
       "    }\n",
       "\n",
       "    .dataframe tbody tr th {\n",
       "        vertical-align: top;\n",
       "    }\n",
       "\n",
       "    .dataframe thead th {\n",
       "        text-align: right;\n",
       "    }\n",
       "</style>\n",
       "<table border=\"1\" class=\"dataframe\">\n",
       "  <thead>\n",
       "    <tr style=\"text-align: right;\">\n",
       "      <th></th>\n",
       "      <th>iso_code</th>\n",
       "      <th>continent</th>\n",
       "      <th>location</th>\n",
       "      <th>date</th>\n",
       "      <th>total_cases</th>\n",
       "      <th>new_cases</th>\n",
       "      <th>new_cases_smoothed</th>\n",
       "      <th>total_deaths</th>\n",
       "      <th>new_deaths</th>\n",
       "      <th>new_deaths_smoothed</th>\n",
       "      <th>...</th>\n",
       "      <th>extreme_poverty</th>\n",
       "      <th>cardiovasc_death_rate</th>\n",
       "      <th>diabetes_prevalence</th>\n",
       "      <th>female_smokers</th>\n",
       "      <th>male_smokers</th>\n",
       "      <th>handwashing_facilities</th>\n",
       "      <th>hospital_beds_per_thousand</th>\n",
       "      <th>life_expectancy</th>\n",
       "      <th>human_development_index</th>\n",
       "      <th>excess_mortality</th>\n",
       "    </tr>\n",
       "  </thead>\n",
       "  <tbody>\n",
       "    <tr>\n",
       "      <th>0</th>\n",
       "      <td>AFG</td>\n",
       "      <td>Asia</td>\n",
       "      <td>Afghanistan</td>\n",
       "      <td>2020-02-24</td>\n",
       "      <td>5.0</td>\n",
       "      <td>5.0</td>\n",
       "      <td>NaN</td>\n",
       "      <td>NaN</td>\n",
       "      <td>NaN</td>\n",
       "      <td>NaN</td>\n",
       "      <td>...</td>\n",
       "      <td>NaN</td>\n",
       "      <td>597.029</td>\n",
       "      <td>9.59</td>\n",
       "      <td>NaN</td>\n",
       "      <td>NaN</td>\n",
       "      <td>37.746</td>\n",
       "      <td>0.5</td>\n",
       "      <td>64.83</td>\n",
       "      <td>0.511</td>\n",
       "      <td>NaN</td>\n",
       "    </tr>\n",
       "    <tr>\n",
       "      <th>1</th>\n",
       "      <td>AFG</td>\n",
       "      <td>Asia</td>\n",
       "      <td>Afghanistan</td>\n",
       "      <td>2020-02-25</td>\n",
       "      <td>5.0</td>\n",
       "      <td>0.0</td>\n",
       "      <td>NaN</td>\n",
       "      <td>NaN</td>\n",
       "      <td>NaN</td>\n",
       "      <td>NaN</td>\n",
       "      <td>...</td>\n",
       "      <td>NaN</td>\n",
       "      <td>597.029</td>\n",
       "      <td>9.59</td>\n",
       "      <td>NaN</td>\n",
       "      <td>NaN</td>\n",
       "      <td>37.746</td>\n",
       "      <td>0.5</td>\n",
       "      <td>64.83</td>\n",
       "      <td>0.511</td>\n",
       "      <td>NaN</td>\n",
       "    </tr>\n",
       "    <tr>\n",
       "      <th>2</th>\n",
       "      <td>AFG</td>\n",
       "      <td>Asia</td>\n",
       "      <td>Afghanistan</td>\n",
       "      <td>2020-02-26</td>\n",
       "      <td>5.0</td>\n",
       "      <td>0.0</td>\n",
       "      <td>NaN</td>\n",
       "      <td>NaN</td>\n",
       "      <td>NaN</td>\n",
       "      <td>NaN</td>\n",
       "      <td>...</td>\n",
       "      <td>NaN</td>\n",
       "      <td>597.029</td>\n",
       "      <td>9.59</td>\n",
       "      <td>NaN</td>\n",
       "      <td>NaN</td>\n",
       "      <td>37.746</td>\n",
       "      <td>0.5</td>\n",
       "      <td>64.83</td>\n",
       "      <td>0.511</td>\n",
       "      <td>NaN</td>\n",
       "    </tr>\n",
       "    <tr>\n",
       "      <th>3</th>\n",
       "      <td>AFG</td>\n",
       "      <td>Asia</td>\n",
       "      <td>Afghanistan</td>\n",
       "      <td>2020-02-27</td>\n",
       "      <td>5.0</td>\n",
       "      <td>0.0</td>\n",
       "      <td>NaN</td>\n",
       "      <td>NaN</td>\n",
       "      <td>NaN</td>\n",
       "      <td>NaN</td>\n",
       "      <td>...</td>\n",
       "      <td>NaN</td>\n",
       "      <td>597.029</td>\n",
       "      <td>9.59</td>\n",
       "      <td>NaN</td>\n",
       "      <td>NaN</td>\n",
       "      <td>37.746</td>\n",
       "      <td>0.5</td>\n",
       "      <td>64.83</td>\n",
       "      <td>0.511</td>\n",
       "      <td>NaN</td>\n",
       "    </tr>\n",
       "    <tr>\n",
       "      <th>4</th>\n",
       "      <td>AFG</td>\n",
       "      <td>Asia</td>\n",
       "      <td>Afghanistan</td>\n",
       "      <td>2020-02-28</td>\n",
       "      <td>5.0</td>\n",
       "      <td>0.0</td>\n",
       "      <td>NaN</td>\n",
       "      <td>NaN</td>\n",
       "      <td>NaN</td>\n",
       "      <td>NaN</td>\n",
       "      <td>...</td>\n",
       "      <td>NaN</td>\n",
       "      <td>597.029</td>\n",
       "      <td>9.59</td>\n",
       "      <td>NaN</td>\n",
       "      <td>NaN</td>\n",
       "      <td>37.746</td>\n",
       "      <td>0.5</td>\n",
       "      <td>64.83</td>\n",
       "      <td>0.511</td>\n",
       "      <td>NaN</td>\n",
       "    </tr>\n",
       "  </tbody>\n",
       "</table>\n",
       "<p>5 rows × 62 columns</p>\n",
       "</div>"
      ],
      "text/plain": [
       "  iso_code continent     location        date  total_cases  new_cases  \\\n",
       "0      AFG      Asia  Afghanistan  2020-02-24          5.0        5.0   \n",
       "1      AFG      Asia  Afghanistan  2020-02-25          5.0        0.0   \n",
       "2      AFG      Asia  Afghanistan  2020-02-26          5.0        0.0   \n",
       "3      AFG      Asia  Afghanistan  2020-02-27          5.0        0.0   \n",
       "4      AFG      Asia  Afghanistan  2020-02-28          5.0        0.0   \n",
       "\n",
       "   new_cases_smoothed  total_deaths  new_deaths  new_deaths_smoothed  ...  \\\n",
       "0                 NaN           NaN         NaN                  NaN  ...   \n",
       "1                 NaN           NaN         NaN                  NaN  ...   \n",
       "2                 NaN           NaN         NaN                  NaN  ...   \n",
       "3                 NaN           NaN         NaN                  NaN  ...   \n",
       "4                 NaN           NaN         NaN                  NaN  ...   \n",
       "\n",
       "   extreme_poverty  cardiovasc_death_rate  diabetes_prevalence  \\\n",
       "0              NaN                597.029                 9.59   \n",
       "1              NaN                597.029                 9.59   \n",
       "2              NaN                597.029                 9.59   \n",
       "3              NaN                597.029                 9.59   \n",
       "4              NaN                597.029                 9.59   \n",
       "\n",
       "   female_smokers  male_smokers  handwashing_facilities  \\\n",
       "0             NaN           NaN                  37.746   \n",
       "1             NaN           NaN                  37.746   \n",
       "2             NaN           NaN                  37.746   \n",
       "3             NaN           NaN                  37.746   \n",
       "4             NaN           NaN                  37.746   \n",
       "\n",
       "   hospital_beds_per_thousand  life_expectancy  human_development_index  \\\n",
       "0                         0.5            64.83                    0.511   \n",
       "1                         0.5            64.83                    0.511   \n",
       "2                         0.5            64.83                    0.511   \n",
       "3                         0.5            64.83                    0.511   \n",
       "4                         0.5            64.83                    0.511   \n",
       "\n",
       "   excess_mortality  \n",
       "0               NaN  \n",
       "1               NaN  \n",
       "2               NaN  \n",
       "3               NaN  \n",
       "4               NaN  \n",
       "\n",
       "[5 rows x 62 columns]"
      ]
     },
     "execution_count": 4,
     "metadata": {},
     "output_type": "execute_result"
    }
   ],
   "source": [
    "owid_df.head()"
   ]
  },
  {
   "cell_type": "code",
   "execution_count": 5,
   "id": "45a5d492",
   "metadata": {},
   "outputs": [
    {
     "data": {
      "text/plain": [
       "Index(['iso_code', 'continent', 'location', 'date', 'total_cases', 'new_cases',\n",
       "       'new_cases_smoothed', 'total_deaths', 'new_deaths',\n",
       "       'new_deaths_smoothed', 'total_cases_per_million',\n",
       "       'new_cases_per_million', 'new_cases_smoothed_per_million',\n",
       "       'total_deaths_per_million', 'new_deaths_per_million',\n",
       "       'new_deaths_smoothed_per_million', 'reproduction_rate', 'icu_patients',\n",
       "       'icu_patients_per_million', 'hosp_patients',\n",
       "       'hosp_patients_per_million', 'weekly_icu_admissions',\n",
       "       'weekly_icu_admissions_per_million', 'weekly_hosp_admissions',\n",
       "       'weekly_hosp_admissions_per_million', 'new_tests', 'total_tests',\n",
       "       'total_tests_per_thousand', 'new_tests_per_thousand',\n",
       "       'new_tests_smoothed', 'new_tests_smoothed_per_thousand',\n",
       "       'positive_rate', 'tests_per_case', 'tests_units', 'total_vaccinations',\n",
       "       'people_vaccinated', 'people_fully_vaccinated', 'total_boosters',\n",
       "       'new_vaccinations', 'new_vaccinations_smoothed',\n",
       "       'total_vaccinations_per_hundred', 'people_vaccinated_per_hundred',\n",
       "       'people_fully_vaccinated_per_hundred', 'total_boosters_per_hundred',\n",
       "       'new_vaccinations_smoothed_per_million', 'stringency_index',\n",
       "       'population', 'population_density', 'median_age', 'aged_65_older',\n",
       "       'aged_70_older', 'gdp_per_capita', 'extreme_poverty',\n",
       "       'cardiovasc_death_rate', 'diabetes_prevalence', 'female_smokers',\n",
       "       'male_smokers', 'handwashing_facilities', 'hospital_beds_per_thousand',\n",
       "       'life_expectancy', 'human_development_index', 'excess_mortality'],\n",
       "      dtype='object')"
      ]
     },
     "execution_count": 5,
     "metadata": {},
     "output_type": "execute_result"
    }
   ],
   "source": [
    "owid_df.columns"
   ]
  },
  {
   "cell_type": "markdown",
   "id": "2ccafa97",
   "metadata": {},
   "source": [
    "Now to remove columns that I'm not including in my analysis and load them into a new dataframe. I'll leave the original intact so that I can refrence it later for controls.\n"
   ]
  },
  {
   "cell_type": "code",
   "execution_count": 6,
   "id": "1c52ec7a",
   "metadata": {},
   "outputs": [],
   "source": [
    "df = owid_df[['iso_code', 'continent', 'location', 'date', 'total_cases', 'new_cases',\n",
    "       'total_deaths', 'new_deaths','total_cases_per_million',\n",
    "       'new_cases_per_million',\n",
    "       'total_deaths_per_million', 'new_deaths_per_million',\n",
    "       'stringency_index', 'excess_mortality']].copy()\n",
    "\n"
   ]
  },
  {
   "cell_type": "code",
   "execution_count": 7,
   "id": "2d5b11d7",
   "metadata": {},
   "outputs": [
    {
     "data": {
      "text/plain": [
       "(118134, 14)"
      ]
     },
     "execution_count": 7,
     "metadata": {},
     "output_type": "execute_result"
    }
   ],
   "source": [
    "df.shape"
   ]
  },
  {
   "cell_type": "code",
   "execution_count": 8,
   "id": "4e7b8165",
   "metadata": {},
   "outputs": [
    {
     "data": {
      "text/html": [
       "<div>\n",
       "<style scoped>\n",
       "    .dataframe tbody tr th:only-of-type {\n",
       "        vertical-align: middle;\n",
       "    }\n",
       "\n",
       "    .dataframe tbody tr th {\n",
       "        vertical-align: top;\n",
       "    }\n",
       "\n",
       "    .dataframe thead th {\n",
       "        text-align: right;\n",
       "    }\n",
       "</style>\n",
       "<table border=\"1\" class=\"dataframe\">\n",
       "  <thead>\n",
       "    <tr style=\"text-align: right;\">\n",
       "      <th></th>\n",
       "      <th>iso_code</th>\n",
       "      <th>continent</th>\n",
       "      <th>location</th>\n",
       "      <th>date</th>\n",
       "      <th>total_cases</th>\n",
       "      <th>new_cases</th>\n",
       "      <th>total_deaths</th>\n",
       "      <th>new_deaths</th>\n",
       "      <th>total_cases_per_million</th>\n",
       "      <th>new_cases_per_million</th>\n",
       "      <th>total_deaths_per_million</th>\n",
       "      <th>new_deaths_per_million</th>\n",
       "      <th>stringency_index</th>\n",
       "      <th>excess_mortality</th>\n",
       "    </tr>\n",
       "  </thead>\n",
       "  <tbody>\n",
       "    <tr>\n",
       "      <th>0</th>\n",
       "      <td>AFG</td>\n",
       "      <td>Asia</td>\n",
       "      <td>Afghanistan</td>\n",
       "      <td>2020-02-24</td>\n",
       "      <td>5.0</td>\n",
       "      <td>5.0</td>\n",
       "      <td>NaN</td>\n",
       "      <td>NaN</td>\n",
       "      <td>0.126</td>\n",
       "      <td>0.126</td>\n",
       "      <td>NaN</td>\n",
       "      <td>NaN</td>\n",
       "      <td>8.33</td>\n",
       "      <td>NaN</td>\n",
       "    </tr>\n",
       "    <tr>\n",
       "      <th>1</th>\n",
       "      <td>AFG</td>\n",
       "      <td>Asia</td>\n",
       "      <td>Afghanistan</td>\n",
       "      <td>2020-02-25</td>\n",
       "      <td>5.0</td>\n",
       "      <td>0.0</td>\n",
       "      <td>NaN</td>\n",
       "      <td>NaN</td>\n",
       "      <td>0.126</td>\n",
       "      <td>0.000</td>\n",
       "      <td>NaN</td>\n",
       "      <td>NaN</td>\n",
       "      <td>8.33</td>\n",
       "      <td>NaN</td>\n",
       "    </tr>\n",
       "    <tr>\n",
       "      <th>2</th>\n",
       "      <td>AFG</td>\n",
       "      <td>Asia</td>\n",
       "      <td>Afghanistan</td>\n",
       "      <td>2020-02-26</td>\n",
       "      <td>5.0</td>\n",
       "      <td>0.0</td>\n",
       "      <td>NaN</td>\n",
       "      <td>NaN</td>\n",
       "      <td>0.126</td>\n",
       "      <td>0.000</td>\n",
       "      <td>NaN</td>\n",
       "      <td>NaN</td>\n",
       "      <td>8.33</td>\n",
       "      <td>NaN</td>\n",
       "    </tr>\n",
       "    <tr>\n",
       "      <th>3</th>\n",
       "      <td>AFG</td>\n",
       "      <td>Asia</td>\n",
       "      <td>Afghanistan</td>\n",
       "      <td>2020-02-27</td>\n",
       "      <td>5.0</td>\n",
       "      <td>0.0</td>\n",
       "      <td>NaN</td>\n",
       "      <td>NaN</td>\n",
       "      <td>0.126</td>\n",
       "      <td>0.000</td>\n",
       "      <td>NaN</td>\n",
       "      <td>NaN</td>\n",
       "      <td>8.33</td>\n",
       "      <td>NaN</td>\n",
       "    </tr>\n",
       "    <tr>\n",
       "      <th>4</th>\n",
       "      <td>AFG</td>\n",
       "      <td>Asia</td>\n",
       "      <td>Afghanistan</td>\n",
       "      <td>2020-02-28</td>\n",
       "      <td>5.0</td>\n",
       "      <td>0.0</td>\n",
       "      <td>NaN</td>\n",
       "      <td>NaN</td>\n",
       "      <td>0.126</td>\n",
       "      <td>0.000</td>\n",
       "      <td>NaN</td>\n",
       "      <td>NaN</td>\n",
       "      <td>8.33</td>\n",
       "      <td>NaN</td>\n",
       "    </tr>\n",
       "  </tbody>\n",
       "</table>\n",
       "</div>"
      ],
      "text/plain": [
       "  iso_code continent     location        date  total_cases  new_cases  \\\n",
       "0      AFG      Asia  Afghanistan  2020-02-24          5.0        5.0   \n",
       "1      AFG      Asia  Afghanistan  2020-02-25          5.0        0.0   \n",
       "2      AFG      Asia  Afghanistan  2020-02-26          5.0        0.0   \n",
       "3      AFG      Asia  Afghanistan  2020-02-27          5.0        0.0   \n",
       "4      AFG      Asia  Afghanistan  2020-02-28          5.0        0.0   \n",
       "\n",
       "   total_deaths  new_deaths  total_cases_per_million  new_cases_per_million  \\\n",
       "0           NaN         NaN                    0.126                  0.126   \n",
       "1           NaN         NaN                    0.126                  0.000   \n",
       "2           NaN         NaN                    0.126                  0.000   \n",
       "3           NaN         NaN                    0.126                  0.000   \n",
       "4           NaN         NaN                    0.126                  0.000   \n",
       "\n",
       "   total_deaths_per_million  new_deaths_per_million  stringency_index  \\\n",
       "0                       NaN                     NaN              8.33   \n",
       "1                       NaN                     NaN              8.33   \n",
       "2                       NaN                     NaN              8.33   \n",
       "3                       NaN                     NaN              8.33   \n",
       "4                       NaN                     NaN              8.33   \n",
       "\n",
       "   excess_mortality  \n",
       "0               NaN  \n",
       "1               NaN  \n",
       "2               NaN  \n",
       "3               NaN  \n",
       "4               NaN  "
      ]
     },
     "execution_count": 8,
     "metadata": {},
     "output_type": "execute_result"
    }
   ],
   "source": [
    "df.head()"
   ]
  },
  {
   "cell_type": "markdown",
   "id": "9a49b2e7",
   "metadata": {},
   "source": [
    "One of the key statistics I'll be using in my analysis is excess mortality as it's generally regarded as the best way of cutting through noise to get to actually Covid outcomes in a given area. However, many countries don't and historically haven't kept good enough data on their mortality levels, so I'll be limiting my analysis to countries that have excess mortality data available."
   ]
  },
  {
   "cell_type": "code",
   "execution_count": 9,
   "id": "a54d774d",
   "metadata": {},
   "outputs": [],
   "source": [
    "temp = df[df['excess_mortality'].notna()]"
   ]
  },
  {
   "cell_type": "markdown",
   "id": "f769de93",
   "metadata": {},
   "source": [
    "This is the list of countries that have at least some information on excess mortality, so I'll constrain most of my analysis to these."
   ]
  },
  {
   "cell_type": "code",
   "execution_count": 10,
   "id": "b4c3cc24",
   "metadata": {},
   "outputs": [
    {
     "name": "stdout",
     "output_type": "stream",
     "text": [
      "{'Slovenia', 'Moldova', 'Brazil', 'Cuba', 'Taiwan', 'Belarus', 'Seychelles', 'Mauritius', 'France', 'Kazakhstan', 'Romania', 'El Salvador', 'Faeroe Islands', 'Estonia', 'Netherlands', 'Uzbekistan', 'Ireland', 'Switzerland', 'Denmark', 'Slovakia', 'Portugal', 'United States', 'Antigua and Barbuda', 'Jamaica', 'New Zealand', 'Costa Rica', 'Canada', 'Albania', 'Poland', 'Finland', 'Oman', 'Iran', 'Germany', 'Tunisia', 'Bosnia and Herzegovina', 'Mexico', 'Japan', 'Lebanon', 'Norway', 'Peru', 'Lithuania', 'Paraguay', 'Panama', 'Iceland', 'Nicaragua', 'Qatar', 'Serbia', 'Hong Kong', 'Philippines', 'Mongolia', 'Montenegro', 'Italy', 'Argentina', 'Russia', 'Belgium', 'Liechtenstein', 'Chile', 'Greece', 'Kosovo', 'Colombia', 'Luxembourg', 'North Macedonia', 'Ukraine', 'Armenia', 'Andorra', 'Guatemala', 'Ecuador', 'Cyprus', 'Singapore', 'Hungary', 'Sweden', 'Latvia', 'Australia', 'Gibraltar', 'South Korea', 'Malaysia', 'Bulgaria', 'Monaco', 'Kyrgyzstan', 'Thailand', 'Bolivia', 'Uruguay', 'Israel', 'Malta', 'Macao', 'Czechia', 'Egypt', 'San Marino', 'Georgia', 'Spain', 'Austria', 'United Kingdom', 'Azerbaijan', 'Croatia'}\n"
     ]
    }
   ],
   "source": [
    "print(set(temp['location'].unique()))"
   ]
  },
  {
   "cell_type": "code",
   "execution_count": 11,
   "id": "21a25e68",
   "metadata": {},
   "outputs": [
    {
     "name": "stdout",
     "output_type": "stream",
     "text": [
      "94\n"
     ]
    }
   ],
   "source": [
    "print(len(set(temp['location'].unique())))"
   ]
  },
  {
   "cell_type": "code",
   "execution_count": 12,
   "id": "61ff7830",
   "metadata": {},
   "outputs": [],
   "source": [
    "my_list = ['Azerbaijan', 'Ukraine', 'Canada', 'Panama', 'Latvia', 'Mauritius', 'Taiwan', 'Macao', 'Moldova', 'Portugal', 'Spain', 'Bolivia', 'Monaco', 'Uruguay', 'Singapore', 'Denmark', 'Japan', 'Belgium', 'Austria', 'Colombia', 'Hungary', 'Bosnia and Herzegovina', 'Kyrgyzstan', 'Chile', 'Romania', 'Bulgaria', 'Germany', 'El Salvador', 'Paraguay', 'Oman', 'Czechia', 'Egypt', 'Armenia', 'Qatar', 'Finland', 'Argentina', 'Ecuador', 'Norway', 'Serbia', 'Croatia', 'Mexico', 'Guatemala', 'Kazakhstan', 'Sweden', 'Montenegro', 'New Zealand', 'Philippines', 'San Marino', 'Costa Rica', 'South Korea', 'Mongolia', 'Peru', 'France', 'Estonia', 'Faeroe Islands', 'Seychelles', 'Poland', 'Gibraltar', 'Tunisia', 'United Kingdom', 'Ireland', 'Switzerland', 'Jamaica', 'Australia', 'Iran', 'Malta', 'Cyprus', 'Kosovo', 'United States', 'Slovakia', 'Andorra', 'Israel', 'Lithuania', 'Slovenia', 'Georgia', 'Netherlands', 'Belarus', 'Thailand', 'Albania', 'Liechtenstein', 'Malaysia', 'Hong Kong', 'Luxembourg', 'Iceland', 'Nicaragua', 'Russia', 'Italy', 'Lebanon', 'Uzbekistan', 'Antigua and Barbuda', 'Cuba', 'Greece', 'Brazil', 'North Macedonia']"
   ]
  },
  {
   "cell_type": "code",
   "execution_count": 13,
   "id": "2fda8227",
   "metadata": {},
   "outputs": [],
   "source": [
    "df = df[df['location'].isin(my_list)]"
   ]
  },
  {
   "cell_type": "code",
   "execution_count": 14,
   "id": "2a8847c4",
   "metadata": {},
   "outputs": [
    {
     "data": {
      "text/plain": [
       "(53407, 14)"
      ]
     },
     "execution_count": 14,
     "metadata": {},
     "output_type": "execute_result"
    }
   ],
   "source": [
    "df.shape"
   ]
  },
  {
   "cell_type": "markdown",
   "id": "0aa576c1",
   "metadata": {},
   "source": [
    "Now we'll filter down our data frame to include only countries that contain information on their stringency as well."
   ]
  },
  {
   "cell_type": "code",
   "execution_count": 15,
   "id": "7324de4d",
   "metadata": {},
   "outputs": [],
   "source": [
    "temp = df[df['stringency_index'].notna()]"
   ]
  },
  {
   "cell_type": "code",
   "execution_count": 16,
   "id": "bc9b04e7",
   "metadata": {},
   "outputs": [
    {
     "name": "stdout",
     "output_type": "stream",
     "text": [
      "{'Slovenia', 'Moldova', 'Brazil', 'Cuba', 'Taiwan', 'Belarus', 'Seychelles', 'Mauritius', 'France', 'Kazakhstan', 'Romania', 'El Salvador', 'Faeroe Islands', 'Estonia', 'Netherlands', 'Uzbekistan', 'Ireland', 'Switzerland', 'Denmark', 'Slovakia', 'Portugal', 'United States', 'Jamaica', 'New Zealand', 'Costa Rica', 'Canada', 'Albania', 'Poland', 'Finland', 'Oman', 'Iran', 'Germany', 'Tunisia', 'Bosnia and Herzegovina', 'Mexico', 'Japan', 'Lebanon', 'Norway', 'Peru', 'Lithuania', 'Paraguay', 'Panama', 'Iceland', 'Nicaragua', 'Qatar', 'Serbia', 'Hong Kong', 'Philippines', 'Mongolia', 'Italy', 'Argentina', 'Russia', 'Belgium', 'Liechtenstein', 'Chile', 'Greece', 'Kosovo', 'Colombia', 'Luxembourg', 'Ukraine', 'Andorra', 'Guatemala', 'Ecuador', 'Cyprus', 'Singapore', 'Hungary', 'Sweden', 'Latvia', 'Australia', 'South Korea', 'Malaysia', 'Bulgaria', 'Monaco', 'Kyrgyzstan', 'Thailand', 'Bolivia', 'Uruguay', 'Israel', 'Malta', 'Macao', 'Czechia', 'Egypt', 'San Marino', 'Georgia', 'Spain', 'Austria', 'United Kingdom', 'Azerbaijan', 'Croatia'}\n"
     ]
    }
   ],
   "source": [
    "print(set(temp['location'].unique()))"
   ]
  },
  {
   "cell_type": "code",
   "execution_count": 17,
   "id": "44a1ef06",
   "metadata": {},
   "outputs": [],
   "source": [
    "my_list = ['Australia', 'Latvia', 'San Marino', 'Hungary', 'Denmark', 'Portugal', 'Kazakhstan', 'Oman', 'Belgium', 'Estonia', 'Albania', 'Hong Kong', 'Slovenia', 'Sweden', 'Tunisia', 'Austria', 'Chile', 'Germany', 'Costa Rica', 'France', 'Switzerland', 'Brazil', 'Italy', 'Iceland', 'Lebanon', 'Romania', 'Bosnia and Herzegovina', 'Uzbekistan', 'Mongolia', 'Iran', 'Mauritius', 'Bulgaria', 'Netherlands', 'Guatemala', 'United Kingdom', 'Slovakia', 'Greece', 'Georgia', 'Andorra', 'El Salvador', 'Poland', 'Liechtenstein', 'Seychelles', 'Belarus', 'Israel', 'Japan', 'Kosovo', 'Panama', 'New Zealand', 'Egypt', 'Serbia', 'Kyrgyzstan', 'Faeroe Islands', 'Ukraine', 'Czechia', 'Canada', 'Argentina', 'Luxembourg', 'Mexico', 'Bolivia', 'Lithuania', 'Macao', 'Singapore', 'Azerbaijan', 'Malaysia', 'Norway', 'Monaco', 'United States', 'Cyprus', 'Jamaica', 'Taiwan', 'Finland', 'Malta', 'Peru', 'Croatia', 'Philippines', 'South Korea', 'Ecuador', 'Moldova', 'Colombia', 'Uruguay', 'Cuba', 'Spain', 'Russia', 'Thailand', 'Nicaragua', 'Paraguay', 'Ireland', 'Qatar']"
   ]
  },
  {
   "cell_type": "code",
   "execution_count": 18,
   "id": "b5cd3a09",
   "metadata": {},
   "outputs": [],
   "source": [
    "df = df[df['location'].isin(my_list)]"
   ]
  },
  {
   "cell_type": "code",
   "execution_count": 19,
   "id": "416a0208",
   "metadata": {},
   "outputs": [
    {
     "data": {
      "text/plain": [
       "(50903, 14)"
      ]
     },
     "execution_count": 19,
     "metadata": {},
     "output_type": "execute_result"
    }
   ],
   "source": [
    "df.shape"
   ]
  },
  {
   "cell_type": "code",
   "execution_count": 20,
   "id": "2f7dcd07",
   "metadata": {},
   "outputs": [
    {
     "data": {
      "text/html": [
       "<div>\n",
       "<style scoped>\n",
       "    .dataframe tbody tr th:only-of-type {\n",
       "        vertical-align: middle;\n",
       "    }\n",
       "\n",
       "    .dataframe tbody tr th {\n",
       "        vertical-align: top;\n",
       "    }\n",
       "\n",
       "    .dataframe thead th {\n",
       "        text-align: right;\n",
       "    }\n",
       "</style>\n",
       "<table border=\"1\" class=\"dataframe\">\n",
       "  <thead>\n",
       "    <tr style=\"text-align: right;\">\n",
       "      <th></th>\n",
       "      <th>iso_code</th>\n",
       "      <th>continent</th>\n",
       "      <th>location</th>\n",
       "      <th>date</th>\n",
       "      <th>total_cases</th>\n",
       "      <th>new_cases</th>\n",
       "      <th>total_deaths</th>\n",
       "      <th>new_deaths</th>\n",
       "      <th>total_cases_per_million</th>\n",
       "      <th>new_cases_per_million</th>\n",
       "      <th>total_deaths_per_million</th>\n",
       "      <th>new_deaths_per_million</th>\n",
       "      <th>stringency_index</th>\n",
       "      <th>excess_mortality</th>\n",
       "    </tr>\n",
       "  </thead>\n",
       "  <tbody>\n",
       "    <tr>\n",
       "      <th>1161</th>\n",
       "      <td>ALB</td>\n",
       "      <td>Europe</td>\n",
       "      <td>Albania</td>\n",
       "      <td>2020-02-25</td>\n",
       "      <td>NaN</td>\n",
       "      <td>NaN</td>\n",
       "      <td>NaN</td>\n",
       "      <td>NaN</td>\n",
       "      <td>NaN</td>\n",
       "      <td>NaN</td>\n",
       "      <td>NaN</td>\n",
       "      <td>NaN</td>\n",
       "      <td>8.33</td>\n",
       "      <td>NaN</td>\n",
       "    </tr>\n",
       "    <tr>\n",
       "      <th>1162</th>\n",
       "      <td>ALB</td>\n",
       "      <td>Europe</td>\n",
       "      <td>Albania</td>\n",
       "      <td>2020-02-26</td>\n",
       "      <td>NaN</td>\n",
       "      <td>NaN</td>\n",
       "      <td>NaN</td>\n",
       "      <td>NaN</td>\n",
       "      <td>NaN</td>\n",
       "      <td>NaN</td>\n",
       "      <td>NaN</td>\n",
       "      <td>NaN</td>\n",
       "      <td>8.33</td>\n",
       "      <td>NaN</td>\n",
       "    </tr>\n",
       "    <tr>\n",
       "      <th>1163</th>\n",
       "      <td>ALB</td>\n",
       "      <td>Europe</td>\n",
       "      <td>Albania</td>\n",
       "      <td>2020-02-27</td>\n",
       "      <td>NaN</td>\n",
       "      <td>NaN</td>\n",
       "      <td>NaN</td>\n",
       "      <td>NaN</td>\n",
       "      <td>NaN</td>\n",
       "      <td>NaN</td>\n",
       "      <td>NaN</td>\n",
       "      <td>NaN</td>\n",
       "      <td>8.33</td>\n",
       "      <td>NaN</td>\n",
       "    </tr>\n",
       "    <tr>\n",
       "      <th>1164</th>\n",
       "      <td>ALB</td>\n",
       "      <td>Europe</td>\n",
       "      <td>Albania</td>\n",
       "      <td>2020-02-28</td>\n",
       "      <td>NaN</td>\n",
       "      <td>NaN</td>\n",
       "      <td>NaN</td>\n",
       "      <td>NaN</td>\n",
       "      <td>NaN</td>\n",
       "      <td>NaN</td>\n",
       "      <td>NaN</td>\n",
       "      <td>NaN</td>\n",
       "      <td>8.33</td>\n",
       "      <td>NaN</td>\n",
       "    </tr>\n",
       "    <tr>\n",
       "      <th>1165</th>\n",
       "      <td>ALB</td>\n",
       "      <td>Europe</td>\n",
       "      <td>Albania</td>\n",
       "      <td>2020-02-29</td>\n",
       "      <td>NaN</td>\n",
       "      <td>NaN</td>\n",
       "      <td>NaN</td>\n",
       "      <td>NaN</td>\n",
       "      <td>NaN</td>\n",
       "      <td>NaN</td>\n",
       "      <td>NaN</td>\n",
       "      <td>NaN</td>\n",
       "      <td>8.33</td>\n",
       "      <td>2.17</td>\n",
       "    </tr>\n",
       "  </tbody>\n",
       "</table>\n",
       "</div>"
      ],
      "text/plain": [
       "     iso_code continent location        date  total_cases  new_cases  \\\n",
       "1161      ALB    Europe  Albania  2020-02-25          NaN        NaN   \n",
       "1162      ALB    Europe  Albania  2020-02-26          NaN        NaN   \n",
       "1163      ALB    Europe  Albania  2020-02-27          NaN        NaN   \n",
       "1164      ALB    Europe  Albania  2020-02-28          NaN        NaN   \n",
       "1165      ALB    Europe  Albania  2020-02-29          NaN        NaN   \n",
       "\n",
       "      total_deaths  new_deaths  total_cases_per_million  \\\n",
       "1161           NaN         NaN                      NaN   \n",
       "1162           NaN         NaN                      NaN   \n",
       "1163           NaN         NaN                      NaN   \n",
       "1164           NaN         NaN                      NaN   \n",
       "1165           NaN         NaN                      NaN   \n",
       "\n",
       "      new_cases_per_million  total_deaths_per_million  new_deaths_per_million  \\\n",
       "1161                    NaN                       NaN                     NaN   \n",
       "1162                    NaN                       NaN                     NaN   \n",
       "1163                    NaN                       NaN                     NaN   \n",
       "1164                    NaN                       NaN                     NaN   \n",
       "1165                    NaN                       NaN                     NaN   \n",
       "\n",
       "      stringency_index  excess_mortality  \n",
       "1161              8.33               NaN  \n",
       "1162              8.33               NaN  \n",
       "1163              8.33               NaN  \n",
       "1164              8.33               NaN  \n",
       "1165              8.33              2.17  "
      ]
     },
     "execution_count": 20,
     "metadata": {},
     "output_type": "execute_result"
    }
   ],
   "source": [
    "df.head()"
   ]
  },
  {
   "cell_type": "code",
   "execution_count": 21,
   "id": "80336461",
   "metadata": {},
   "outputs": [],
   "source": [
    "df.to_csv('data_cleaning_df.csv', index=False)"
   ]
  },
  {
   "cell_type": "code",
   "execution_count": null,
   "id": "056137d9",
   "metadata": {},
   "outputs": [],
   "source": []
  }
 ],
 "metadata": {
  "kernelspec": {
   "display_name": "Python 3",
   "language": "python",
   "name": "python3"
  },
  "language_info": {
   "codemirror_mode": {
    "name": "ipython",
    "version": 3
   },
   "file_extension": ".py",
   "mimetype": "text/x-python",
   "name": "python",
   "nbconvert_exporter": "python",
   "pygments_lexer": "ipython3",
   "version": "3.8.8"
  }
 },
 "nbformat": 4,
 "nbformat_minor": 5
}
